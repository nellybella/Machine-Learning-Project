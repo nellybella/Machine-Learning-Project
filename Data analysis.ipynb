{
 "cells": [
  {
   "cell_type": "markdown",
   "metadata": {},
   "source": [
    "### DATA SOURCE: Sendy Logistics Challenge"
   ]
  },
  {
   "cell_type": "markdown",
   "metadata": {},
   "source": [
    "## Loading Modules"
   ]
  },
  {
   "cell_type": "code",
   "execution_count": 2,
   "metadata": {},
   "outputs": [],
   "source": [
    "import pandas as pd\n",
    "import  numpy as np\n",
    "import matplotlib.pyplot as plt\n",
    "import seaborn as sns\n",
    "from matplotlib import style\n",
    "sns.set_style('darkgrid')\n",
    "%matplotlib inline\n",
    "import warnings\n",
    "warnings.filterwarnings('ignore')\n",
    "import mpl_toolkits\n",
    "from sklearn.cluster import DBSCAN\n",
    "from sklearn.model_selection import train_test_split, cross_val_predict\n",
    "from sklearn.svm import SVR\n",
    "from sklearn.ensemble import RandomForestRegressor\n",
    "from sklearn.linear_model import SGDRegressor\n",
    "from sklearn.neighbors import KNeighborsRegressor\n",
    "from sklearn.naive_bayes import GaussianNB\n",
    "from sklearn.decomposition import PCA\n",
    "from xgboost import XGBRegressor\n",
    "from sklearn.preprocessing import LabelEncoder, MinMaxScaler\n",
    "from sklearn.metrics import mean_squared_error\n",
    "import time"
   ]
  },
  {
   "cell_type": "markdown",
   "metadata": {},
   "source": []
  },
  {
   "cell_type": "markdown",
   "metadata": {},
   "source": [
    "## Loading Datasets"
   ]
  },
  {
   "cell_type": "code",
   "execution_count": 3,
   "metadata": {},
   "outputs": [],
   "source": [
    "train = pd.read_csv('train.csv')\n",
    "riders = pd.read_csv('Riders.csv')\n",
    "test = pd.read_csv('Test.csv')"
   ]
  },
  {
   "cell_type": "markdown",
   "metadata": {},
   "source": [
    "## Analysis of the train dataset"
   ]
  },
  {
   "cell_type": "code",
   "execution_count": 4,
   "metadata": {},
   "outputs": [
    {
     "data": {
      "text/plain": [
       "(21201, 29)"
      ]
     },
     "execution_count": 4,
     "metadata": {},
     "output_type": "execute_result"
    }
   ],
   "source": [
    "train.shape"
   ]
  },
  {
   "cell_type": "markdown",
   "metadata": {},
   "source": [
    "* This dataset has 21201 rows and 26 columns"
   ]
  },
  {
   "cell_type": "code",
   "execution_count": 5,
   "metadata": {},
   "outputs": [
    {
     "data": {
      "text/html": [
       "<div>\n",
       "<style scoped>\n",
       "    .dataframe tbody tr th:only-of-type {\n",
       "        vertical-align: middle;\n",
       "    }\n",
       "\n",
       "    .dataframe tbody tr th {\n",
       "        vertical-align: top;\n",
       "    }\n",
       "\n",
       "    .dataframe thead th {\n",
       "        text-align: right;\n",
       "    }\n",
       "</style>\n",
       "<table border=\"1\" class=\"dataframe\">\n",
       "  <thead>\n",
       "    <tr style=\"text-align: right;\">\n",
       "      <th></th>\n",
       "      <th>Order No</th>\n",
       "      <th>User Id</th>\n",
       "      <th>Vehicle Type</th>\n",
       "      <th>Platform Type</th>\n",
       "      <th>Personal or Business</th>\n",
       "      <th>Placement - Day of Month</th>\n",
       "      <th>Placement - Weekday (Mo = 1)</th>\n",
       "      <th>Placement - Time</th>\n",
       "      <th>Confirmation - Day of Month</th>\n",
       "      <th>Confirmation - Weekday (Mo = 1)</th>\n",
       "      <th>...</th>\n",
       "      <th>Arrival at Destination - Time</th>\n",
       "      <th>Distance (KM)</th>\n",
       "      <th>Temperature</th>\n",
       "      <th>Precipitation in millimeters</th>\n",
       "      <th>Pickup Lat</th>\n",
       "      <th>Pickup Long</th>\n",
       "      <th>Destination Lat</th>\n",
       "      <th>Destination Long</th>\n",
       "      <th>Rider Id</th>\n",
       "      <th>Time from Pickup to Arrival</th>\n",
       "    </tr>\n",
       "  </thead>\n",
       "  <tbody>\n",
       "    <tr>\n",
       "      <th>0</th>\n",
       "      <td>Order_No_4211</td>\n",
       "      <td>User_Id_633</td>\n",
       "      <td>Bike</td>\n",
       "      <td>3</td>\n",
       "      <td>Business</td>\n",
       "      <td>9</td>\n",
       "      <td>5</td>\n",
       "      <td>9:35:46 AM</td>\n",
       "      <td>9</td>\n",
       "      <td>5</td>\n",
       "      <td>...</td>\n",
       "      <td>10:39:55 AM</td>\n",
       "      <td>4</td>\n",
       "      <td>20.4</td>\n",
       "      <td>NaN</td>\n",
       "      <td>-1.317755</td>\n",
       "      <td>36.830370</td>\n",
       "      <td>-1.300406</td>\n",
       "      <td>36.829741</td>\n",
       "      <td>Rider_Id_432</td>\n",
       "      <td>745</td>\n",
       "    </tr>\n",
       "    <tr>\n",
       "      <th>1</th>\n",
       "      <td>Order_No_25375</td>\n",
       "      <td>User_Id_2285</td>\n",
       "      <td>Bike</td>\n",
       "      <td>3</td>\n",
       "      <td>Personal</td>\n",
       "      <td>12</td>\n",
       "      <td>5</td>\n",
       "      <td>11:16:16 AM</td>\n",
       "      <td>12</td>\n",
       "      <td>5</td>\n",
       "      <td>...</td>\n",
       "      <td>12:17:22 PM</td>\n",
       "      <td>16</td>\n",
       "      <td>26.4</td>\n",
       "      <td>NaN</td>\n",
       "      <td>-1.351453</td>\n",
       "      <td>36.899315</td>\n",
       "      <td>-1.295004</td>\n",
       "      <td>36.814358</td>\n",
       "      <td>Rider_Id_856</td>\n",
       "      <td>1993</td>\n",
       "    </tr>\n",
       "    <tr>\n",
       "      <th>2</th>\n",
       "      <td>Order_No_1899</td>\n",
       "      <td>User_Id_265</td>\n",
       "      <td>Bike</td>\n",
       "      <td>3</td>\n",
       "      <td>Business</td>\n",
       "      <td>30</td>\n",
       "      <td>2</td>\n",
       "      <td>12:39:25 PM</td>\n",
       "      <td>30</td>\n",
       "      <td>2</td>\n",
       "      <td>...</td>\n",
       "      <td>1:00:38 PM</td>\n",
       "      <td>3</td>\n",
       "      <td>NaN</td>\n",
       "      <td>NaN</td>\n",
       "      <td>-1.308284</td>\n",
       "      <td>36.843419</td>\n",
       "      <td>-1.300921</td>\n",
       "      <td>36.828195</td>\n",
       "      <td>Rider_Id_155</td>\n",
       "      <td>455</td>\n",
       "    </tr>\n",
       "    <tr>\n",
       "      <th>3</th>\n",
       "      <td>Order_No_9336</td>\n",
       "      <td>User_Id_1402</td>\n",
       "      <td>Bike</td>\n",
       "      <td>3</td>\n",
       "      <td>Business</td>\n",
       "      <td>15</td>\n",
       "      <td>5</td>\n",
       "      <td>9:25:34 AM</td>\n",
       "      <td>15</td>\n",
       "      <td>5</td>\n",
       "      <td>...</td>\n",
       "      <td>10:05:27 AM</td>\n",
       "      <td>9</td>\n",
       "      <td>19.2</td>\n",
       "      <td>NaN</td>\n",
       "      <td>-1.281301</td>\n",
       "      <td>36.832396</td>\n",
       "      <td>-1.257147</td>\n",
       "      <td>36.795063</td>\n",
       "      <td>Rider_Id_855</td>\n",
       "      <td>1341</td>\n",
       "    </tr>\n",
       "    <tr>\n",
       "      <th>4</th>\n",
       "      <td>Order_No_27883</td>\n",
       "      <td>User_Id_1737</td>\n",
       "      <td>Bike</td>\n",
       "      <td>1</td>\n",
       "      <td>Personal</td>\n",
       "      <td>13</td>\n",
       "      <td>1</td>\n",
       "      <td>9:55:18 AM</td>\n",
       "      <td>13</td>\n",
       "      <td>1</td>\n",
       "      <td>...</td>\n",
       "      <td>10:25:37 AM</td>\n",
       "      <td>9</td>\n",
       "      <td>15.4</td>\n",
       "      <td>NaN</td>\n",
       "      <td>-1.266597</td>\n",
       "      <td>36.792118</td>\n",
       "      <td>-1.295041</td>\n",
       "      <td>36.809817</td>\n",
       "      <td>Rider_Id_770</td>\n",
       "      <td>1214</td>\n",
       "    </tr>\n",
       "  </tbody>\n",
       "</table>\n",
       "<p>5 rows × 29 columns</p>\n",
       "</div>"
      ],
      "text/plain": [
       "         Order No       User Id Vehicle Type  Platform Type  \\\n",
       "0   Order_No_4211   User_Id_633         Bike              3   \n",
       "1  Order_No_25375  User_Id_2285         Bike              3   \n",
       "2   Order_No_1899   User_Id_265         Bike              3   \n",
       "3   Order_No_9336  User_Id_1402         Bike              3   \n",
       "4  Order_No_27883  User_Id_1737         Bike              1   \n",
       "\n",
       "  Personal or Business  Placement - Day of Month  \\\n",
       "0             Business                         9   \n",
       "1             Personal                        12   \n",
       "2             Business                        30   \n",
       "3             Business                        15   \n",
       "4             Personal                        13   \n",
       "\n",
       "   Placement - Weekday (Mo = 1) Placement - Time  Confirmation - Day of Month  \\\n",
       "0                             5       9:35:46 AM                            9   \n",
       "1                             5      11:16:16 AM                           12   \n",
       "2                             2      12:39:25 PM                           30   \n",
       "3                             5       9:25:34 AM                           15   \n",
       "4                             1       9:55:18 AM                           13   \n",
       "\n",
       "   Confirmation - Weekday (Mo = 1)             ...              \\\n",
       "0                                5             ...               \n",
       "1                                5             ...               \n",
       "2                                2             ...               \n",
       "3                                5             ...               \n",
       "4                                1             ...               \n",
       "\n",
       "  Arrival at Destination - Time  Distance (KM)  Temperature  \\\n",
       "0                   10:39:55 AM              4         20.4   \n",
       "1                   12:17:22 PM             16         26.4   \n",
       "2                    1:00:38 PM              3          NaN   \n",
       "3                   10:05:27 AM              9         19.2   \n",
       "4                   10:25:37 AM              9         15.4   \n",
       "\n",
       "  Precipitation in millimeters  Pickup Lat  Pickup Long Destination Lat  \\\n",
       "0                          NaN   -1.317755    36.830370       -1.300406   \n",
       "1                          NaN   -1.351453    36.899315       -1.295004   \n",
       "2                          NaN   -1.308284    36.843419       -1.300921   \n",
       "3                          NaN   -1.281301    36.832396       -1.257147   \n",
       "4                          NaN   -1.266597    36.792118       -1.295041   \n",
       "\n",
       "   Destination Long      Rider Id Time from Pickup to Arrival  \n",
       "0         36.829741  Rider_Id_432                         745  \n",
       "1         36.814358  Rider_Id_856                        1993  \n",
       "2         36.828195  Rider_Id_155                         455  \n",
       "3         36.795063  Rider_Id_855                        1341  \n",
       "4         36.809817  Rider_Id_770                        1214  \n",
       "\n",
       "[5 rows x 29 columns]"
      ]
     },
     "execution_count": 5,
     "metadata": {},
     "output_type": "execute_result"
    }
   ],
   "source": [
    "train.head()"
   ]
  },
  {
   "cell_type": "code",
   "execution_count": 6,
   "metadata": {},
   "outputs": [
    {
     "name": "stdout",
     "output_type": "stream",
     "text": [
      "<class 'pandas.core.frame.DataFrame'>\n",
      "RangeIndex: 21201 entries, 0 to 21200\n",
      "Data columns (total 29 columns):\n",
      "Order No                                     21201 non-null object\n",
      "User Id                                      21201 non-null object\n",
      "Vehicle Type                                 21201 non-null object\n",
      "Platform Type                                21201 non-null int64\n",
      "Personal or Business                         21201 non-null object\n",
      "Placement - Day of Month                     21201 non-null int64\n",
      "Placement - Weekday (Mo = 1)                 21201 non-null int64\n",
      "Placement - Time                             21201 non-null object\n",
      "Confirmation - Day of Month                  21201 non-null int64\n",
      "Confirmation - Weekday (Mo = 1)              21201 non-null int64\n",
      "Confirmation - Time                          21201 non-null object\n",
      "Arrival at Pickup - Day of Month             21201 non-null int64\n",
      "Arrival at Pickup - Weekday (Mo = 1)         21201 non-null int64\n",
      "Arrival at Pickup - Time                     21201 non-null object\n",
      "Pickup - Day of Month                        21201 non-null int64\n",
      "Pickup - Weekday (Mo = 1)                    21201 non-null int64\n",
      "Pickup - Time                                21201 non-null object\n",
      "Arrival at Destination - Day of Month        21201 non-null int64\n",
      "Arrival at Destination - Weekday (Mo = 1)    21201 non-null int64\n",
      "Arrival at Destination - Time                21201 non-null object\n",
      "Distance (KM)                                21201 non-null int64\n",
      "Temperature                                  16835 non-null float64\n",
      "Precipitation in millimeters                 552 non-null float64\n",
      "Pickup Lat                                   21201 non-null float64\n",
      "Pickup Long                                  21201 non-null float64\n",
      "Destination Lat                              21201 non-null float64\n",
      "Destination Long                             21201 non-null float64\n",
      "Rider Id                                     21201 non-null object\n",
      "Time from Pickup to Arrival                  21201 non-null int64\n",
      "dtypes: float64(6), int64(13), object(10)\n",
      "memory usage: 4.7+ MB\n"
     ]
    }
   ],
   "source": [
    "train.info()"
   ]
  },
  {
   "cell_type": "code",
   "execution_count": null,
   "metadata": {},
   "outputs": [],
   "source": []
  },
  {
   "cell_type": "markdown",
   "metadata": {},
   "source": [
    "* Describing training dataset"
   ]
  },
  {
   "cell_type": "code",
   "execution_count": 7,
   "metadata": {},
   "outputs": [
    {
     "data": {
      "text/html": [
       "<div>\n",
       "<style scoped>\n",
       "    .dataframe tbody tr th:only-of-type {\n",
       "        vertical-align: middle;\n",
       "    }\n",
       "\n",
       "    .dataframe tbody tr th {\n",
       "        vertical-align: top;\n",
       "    }\n",
       "\n",
       "    .dataframe thead th {\n",
       "        text-align: right;\n",
       "    }\n",
       "</style>\n",
       "<table border=\"1\" class=\"dataframe\">\n",
       "  <thead>\n",
       "    <tr style=\"text-align: right;\">\n",
       "      <th></th>\n",
       "      <th>Platform Type</th>\n",
       "      <th>Placement - Day of Month</th>\n",
       "      <th>Placement - Weekday (Mo = 1)</th>\n",
       "      <th>Confirmation - Day of Month</th>\n",
       "      <th>Confirmation - Weekday (Mo = 1)</th>\n",
       "      <th>Arrival at Pickup - Day of Month</th>\n",
       "      <th>Arrival at Pickup - Weekday (Mo = 1)</th>\n",
       "      <th>Pickup - Day of Month</th>\n",
       "      <th>Pickup - Weekday (Mo = 1)</th>\n",
       "      <th>Arrival at Destination - Day of Month</th>\n",
       "      <th>Arrival at Destination - Weekday (Mo = 1)</th>\n",
       "      <th>Distance (KM)</th>\n",
       "      <th>Temperature</th>\n",
       "      <th>Precipitation in millimeters</th>\n",
       "      <th>Pickup Lat</th>\n",
       "      <th>Pickup Long</th>\n",
       "      <th>Destination Lat</th>\n",
       "      <th>Destination Long</th>\n",
       "      <th>Time from Pickup to Arrival</th>\n",
       "    </tr>\n",
       "  </thead>\n",
       "  <tbody>\n",
       "    <tr>\n",
       "      <th>count</th>\n",
       "      <td>21201.000000</td>\n",
       "      <td>21201.000000</td>\n",
       "      <td>21201.000000</td>\n",
       "      <td>21201.000000</td>\n",
       "      <td>21201.000000</td>\n",
       "      <td>21201.000000</td>\n",
       "      <td>21201.000000</td>\n",
       "      <td>21201.000000</td>\n",
       "      <td>21201.000000</td>\n",
       "      <td>21201.000000</td>\n",
       "      <td>21201.000000</td>\n",
       "      <td>21201.000000</td>\n",
       "      <td>16835.000000</td>\n",
       "      <td>552.000000</td>\n",
       "      <td>21201.000000</td>\n",
       "      <td>21201.000000</td>\n",
       "      <td>21201.000000</td>\n",
       "      <td>21201.000000</td>\n",
       "      <td>21201.000000</td>\n",
       "    </tr>\n",
       "    <tr>\n",
       "      <th>mean</th>\n",
       "      <td>2.752182</td>\n",
       "      <td>15.653696</td>\n",
       "      <td>3.240083</td>\n",
       "      <td>15.653837</td>\n",
       "      <td>3.240225</td>\n",
       "      <td>15.653837</td>\n",
       "      <td>3.240225</td>\n",
       "      <td>15.653837</td>\n",
       "      <td>3.240225</td>\n",
       "      <td>15.653837</td>\n",
       "      <td>3.240225</td>\n",
       "      <td>9.506533</td>\n",
       "      <td>23.258889</td>\n",
       "      <td>7.905797</td>\n",
       "      <td>-1.281470</td>\n",
       "      <td>36.811264</td>\n",
       "      <td>-1.282581</td>\n",
       "      <td>36.811220</td>\n",
       "      <td>1556.920947</td>\n",
       "    </tr>\n",
       "    <tr>\n",
       "      <th>std</th>\n",
       "      <td>0.625178</td>\n",
       "      <td>8.798916</td>\n",
       "      <td>1.567295</td>\n",
       "      <td>8.798886</td>\n",
       "      <td>1.567228</td>\n",
       "      <td>8.798886</td>\n",
       "      <td>1.567228</td>\n",
       "      <td>8.798886</td>\n",
       "      <td>1.567228</td>\n",
       "      <td>8.798886</td>\n",
       "      <td>1.567228</td>\n",
       "      <td>5.668963</td>\n",
       "      <td>3.615768</td>\n",
       "      <td>17.089971</td>\n",
       "      <td>0.030507</td>\n",
       "      <td>0.037473</td>\n",
       "      <td>0.034824</td>\n",
       "      <td>0.044721</td>\n",
       "      <td>987.270788</td>\n",
       "    </tr>\n",
       "    <tr>\n",
       "      <th>min</th>\n",
       "      <td>1.000000</td>\n",
       "      <td>1.000000</td>\n",
       "      <td>1.000000</td>\n",
       "      <td>1.000000</td>\n",
       "      <td>1.000000</td>\n",
       "      <td>1.000000</td>\n",
       "      <td>1.000000</td>\n",
       "      <td>1.000000</td>\n",
       "      <td>1.000000</td>\n",
       "      <td>1.000000</td>\n",
       "      <td>1.000000</td>\n",
       "      <td>1.000000</td>\n",
       "      <td>11.200000</td>\n",
       "      <td>0.100000</td>\n",
       "      <td>-1.438302</td>\n",
       "      <td>36.653621</td>\n",
       "      <td>-1.430298</td>\n",
       "      <td>36.606594</td>\n",
       "      <td>1.000000</td>\n",
       "    </tr>\n",
       "    <tr>\n",
       "      <th>25%</th>\n",
       "      <td>3.000000</td>\n",
       "      <td>8.000000</td>\n",
       "      <td>2.000000</td>\n",
       "      <td>8.000000</td>\n",
       "      <td>2.000000</td>\n",
       "      <td>8.000000</td>\n",
       "      <td>2.000000</td>\n",
       "      <td>8.000000</td>\n",
       "      <td>2.000000</td>\n",
       "      <td>8.000000</td>\n",
       "      <td>2.000000</td>\n",
       "      <td>5.000000</td>\n",
       "      <td>20.600000</td>\n",
       "      <td>1.075000</td>\n",
       "      <td>-1.300921</td>\n",
       "      <td>36.784605</td>\n",
       "      <td>-1.301201</td>\n",
       "      <td>36.785661</td>\n",
       "      <td>882.000000</td>\n",
       "    </tr>\n",
       "    <tr>\n",
       "      <th>50%</th>\n",
       "      <td>3.000000</td>\n",
       "      <td>15.000000</td>\n",
       "      <td>3.000000</td>\n",
       "      <td>15.000000</td>\n",
       "      <td>3.000000</td>\n",
       "      <td>15.000000</td>\n",
       "      <td>3.000000</td>\n",
       "      <td>15.000000</td>\n",
       "      <td>3.000000</td>\n",
       "      <td>15.000000</td>\n",
       "      <td>3.000000</td>\n",
       "      <td>8.000000</td>\n",
       "      <td>23.500000</td>\n",
       "      <td>2.900000</td>\n",
       "      <td>-1.279395</td>\n",
       "      <td>36.807040</td>\n",
       "      <td>-1.284382</td>\n",
       "      <td>36.808002</td>\n",
       "      <td>1369.000000</td>\n",
       "    </tr>\n",
       "    <tr>\n",
       "      <th>75%</th>\n",
       "      <td>3.000000</td>\n",
       "      <td>23.000000</td>\n",
       "      <td>5.000000</td>\n",
       "      <td>23.000000</td>\n",
       "      <td>5.000000</td>\n",
       "      <td>23.000000</td>\n",
       "      <td>5.000000</td>\n",
       "      <td>23.000000</td>\n",
       "      <td>5.000000</td>\n",
       "      <td>23.000000</td>\n",
       "      <td>5.000000</td>\n",
       "      <td>13.000000</td>\n",
       "      <td>26.000000</td>\n",
       "      <td>4.900000</td>\n",
       "      <td>-1.257147</td>\n",
       "      <td>36.829741</td>\n",
       "      <td>-1.261177</td>\n",
       "      <td>36.829477</td>\n",
       "      <td>2040.000000</td>\n",
       "    </tr>\n",
       "    <tr>\n",
       "      <th>max</th>\n",
       "      <td>4.000000</td>\n",
       "      <td>31.000000</td>\n",
       "      <td>7.000000</td>\n",
       "      <td>31.000000</td>\n",
       "      <td>7.000000</td>\n",
       "      <td>31.000000</td>\n",
       "      <td>7.000000</td>\n",
       "      <td>31.000000</td>\n",
       "      <td>7.000000</td>\n",
       "      <td>31.000000</td>\n",
       "      <td>7.000000</td>\n",
       "      <td>49.000000</td>\n",
       "      <td>32.100000</td>\n",
       "      <td>99.100000</td>\n",
       "      <td>-1.147170</td>\n",
       "      <td>36.991046</td>\n",
       "      <td>-1.030225</td>\n",
       "      <td>37.016779</td>\n",
       "      <td>7883.000000</td>\n",
       "    </tr>\n",
       "  </tbody>\n",
       "</table>\n",
       "</div>"
      ],
      "text/plain": [
       "       Platform Type  Placement - Day of Month  Placement - Weekday (Mo = 1)  \\\n",
       "count   21201.000000              21201.000000                  21201.000000   \n",
       "mean        2.752182                 15.653696                      3.240083   \n",
       "std         0.625178                  8.798916                      1.567295   \n",
       "min         1.000000                  1.000000                      1.000000   \n",
       "25%         3.000000                  8.000000                      2.000000   \n",
       "50%         3.000000                 15.000000                      3.000000   \n",
       "75%         3.000000                 23.000000                      5.000000   \n",
       "max         4.000000                 31.000000                      7.000000   \n",
       "\n",
       "       Confirmation - Day of Month  Confirmation - Weekday (Mo = 1)  \\\n",
       "count                 21201.000000                     21201.000000   \n",
       "mean                     15.653837                         3.240225   \n",
       "std                       8.798886                         1.567228   \n",
       "min                       1.000000                         1.000000   \n",
       "25%                       8.000000                         2.000000   \n",
       "50%                      15.000000                         3.000000   \n",
       "75%                      23.000000                         5.000000   \n",
       "max                      31.000000                         7.000000   \n",
       "\n",
       "       Arrival at Pickup - Day of Month  Arrival at Pickup - Weekday (Mo = 1)  \\\n",
       "count                      21201.000000                          21201.000000   \n",
       "mean                          15.653837                              3.240225   \n",
       "std                            8.798886                              1.567228   \n",
       "min                            1.000000                              1.000000   \n",
       "25%                            8.000000                              2.000000   \n",
       "50%                           15.000000                              3.000000   \n",
       "75%                           23.000000                              5.000000   \n",
       "max                           31.000000                              7.000000   \n",
       "\n",
       "       Pickup - Day of Month  Pickup - Weekday (Mo = 1)  \\\n",
       "count           21201.000000               21201.000000   \n",
       "mean               15.653837                   3.240225   \n",
       "std                 8.798886                   1.567228   \n",
       "min                 1.000000                   1.000000   \n",
       "25%                 8.000000                   2.000000   \n",
       "50%                15.000000                   3.000000   \n",
       "75%                23.000000                   5.000000   \n",
       "max                31.000000                   7.000000   \n",
       "\n",
       "       Arrival at Destination - Day of Month  \\\n",
       "count                           21201.000000   \n",
       "mean                               15.653837   \n",
       "std                                 8.798886   \n",
       "min                                 1.000000   \n",
       "25%                                 8.000000   \n",
       "50%                                15.000000   \n",
       "75%                                23.000000   \n",
       "max                                31.000000   \n",
       "\n",
       "       Arrival at Destination - Weekday (Mo = 1)  Distance (KM)   Temperature  \\\n",
       "count                               21201.000000   21201.000000  16835.000000   \n",
       "mean                                    3.240225       9.506533     23.258889   \n",
       "std                                     1.567228       5.668963      3.615768   \n",
       "min                                     1.000000       1.000000     11.200000   \n",
       "25%                                     2.000000       5.000000     20.600000   \n",
       "50%                                     3.000000       8.000000     23.500000   \n",
       "75%                                     5.000000      13.000000     26.000000   \n",
       "max                                     7.000000      49.000000     32.100000   \n",
       "\n",
       "       Precipitation in millimeters    Pickup Lat   Pickup Long  \\\n",
       "count                    552.000000  21201.000000  21201.000000   \n",
       "mean                       7.905797     -1.281470     36.811264   \n",
       "std                       17.089971      0.030507      0.037473   \n",
       "min                        0.100000     -1.438302     36.653621   \n",
       "25%                        1.075000     -1.300921     36.784605   \n",
       "50%                        2.900000     -1.279395     36.807040   \n",
       "75%                        4.900000     -1.257147     36.829741   \n",
       "max                       99.100000     -1.147170     36.991046   \n",
       "\n",
       "       Destination Lat  Destination Long  Time from Pickup to Arrival  \n",
       "count     21201.000000      21201.000000                 21201.000000  \n",
       "mean         -1.282581         36.811220                  1556.920947  \n",
       "std           0.034824          0.044721                   987.270788  \n",
       "min          -1.430298         36.606594                     1.000000  \n",
       "25%          -1.301201         36.785661                   882.000000  \n",
       "50%          -1.284382         36.808002                  1369.000000  \n",
       "75%          -1.261177         36.829477                  2040.000000  \n",
       "max          -1.030225         37.016779                  7883.000000  "
      ]
     },
     "execution_count": 7,
     "metadata": {},
     "output_type": "execute_result"
    }
   ],
   "source": [
    "train.describe()"
   ]
  },
  {
   "cell_type": "code",
   "execution_count": null,
   "metadata": {},
   "outputs": [],
   "source": []
  },
  {
   "cell_type": "markdown",
   "metadata": {},
   "source": [
    "* Description of the categorical data"
   ]
  },
  {
   "cell_type": "code",
   "execution_count": 8,
   "metadata": {},
   "outputs": [
    {
     "data": {
      "text/html": [
       "<div>\n",
       "<style scoped>\n",
       "    .dataframe tbody tr th:only-of-type {\n",
       "        vertical-align: middle;\n",
       "    }\n",
       "\n",
       "    .dataframe tbody tr th {\n",
       "        vertical-align: top;\n",
       "    }\n",
       "\n",
       "    .dataframe thead th {\n",
       "        text-align: right;\n",
       "    }\n",
       "</style>\n",
       "<table border=\"1\" class=\"dataframe\">\n",
       "  <thead>\n",
       "    <tr style=\"text-align: right;\">\n",
       "      <th></th>\n",
       "      <th>Order No</th>\n",
       "      <th>User Id</th>\n",
       "      <th>Vehicle Type</th>\n",
       "      <th>Personal or Business</th>\n",
       "      <th>Placement - Time</th>\n",
       "      <th>Confirmation - Time</th>\n",
       "      <th>Arrival at Pickup - Time</th>\n",
       "      <th>Pickup - Time</th>\n",
       "      <th>Arrival at Destination - Time</th>\n",
       "      <th>Rider Id</th>\n",
       "    </tr>\n",
       "  </thead>\n",
       "  <tbody>\n",
       "    <tr>\n",
       "      <th>count</th>\n",
       "      <td>21201</td>\n",
       "      <td>21201</td>\n",
       "      <td>21201</td>\n",
       "      <td>21201</td>\n",
       "      <td>21201</td>\n",
       "      <td>21201</td>\n",
       "      <td>21201</td>\n",
       "      <td>21201</td>\n",
       "      <td>21201</td>\n",
       "      <td>21201</td>\n",
       "    </tr>\n",
       "    <tr>\n",
       "      <th>unique</th>\n",
       "      <td>21201</td>\n",
       "      <td>3186</td>\n",
       "      <td>1</td>\n",
       "      <td>2</td>\n",
       "      <td>15686</td>\n",
       "      <td>15742</td>\n",
       "      <td>15767</td>\n",
       "      <td>15690</td>\n",
       "      <td>15725</td>\n",
       "      <td>924</td>\n",
       "    </tr>\n",
       "    <tr>\n",
       "      <th>top</th>\n",
       "      <td>Order_No_19434</td>\n",
       "      <td>User_Id_393</td>\n",
       "      <td>Bike</td>\n",
       "      <td>Business</td>\n",
       "      <td>9:41:03 AM</td>\n",
       "      <td>9:56:52 AM</td>\n",
       "      <td>2:32:04 PM</td>\n",
       "      <td>12:04:20 PM</td>\n",
       "      <td>3:24:03 PM</td>\n",
       "      <td>Rider_Id_726</td>\n",
       "    </tr>\n",
       "    <tr>\n",
       "      <th>freq</th>\n",
       "      <td>1</td>\n",
       "      <td>645</td>\n",
       "      <td>21201</td>\n",
       "      <td>17384</td>\n",
       "      <td>6</td>\n",
       "      <td>6</td>\n",
       "      <td>6</td>\n",
       "      <td>6</td>\n",
       "      <td>7</td>\n",
       "      <td>247</td>\n",
       "    </tr>\n",
       "  </tbody>\n",
       "</table>\n",
       "</div>"
      ],
      "text/plain": [
       "              Order No      User Id Vehicle Type Personal or Business  \\\n",
       "count            21201        21201        21201                21201   \n",
       "unique           21201         3186            1                    2   \n",
       "top     Order_No_19434  User_Id_393         Bike             Business   \n",
       "freq                 1          645        21201                17384   \n",
       "\n",
       "       Placement - Time Confirmation - Time Arrival at Pickup - Time  \\\n",
       "count             21201               21201                    21201   \n",
       "unique            15686               15742                    15767   \n",
       "top          9:41:03 AM          9:56:52 AM               2:32:04 PM   \n",
       "freq                  6                   6                        6   \n",
       "\n",
       "       Pickup - Time Arrival at Destination - Time      Rider Id  \n",
       "count          21201                         21201         21201  \n",
       "unique         15690                         15725           924  \n",
       "top      12:04:20 PM                    3:24:03 PM  Rider_Id_726  \n",
       "freq               6                             7           247  "
      ]
     },
     "execution_count": 8,
     "metadata": {},
     "output_type": "execute_result"
    }
   ],
   "source": [
    "train.describe(include=['O'])"
   ]
  },
  {
   "cell_type": "code",
   "execution_count": null,
   "metadata": {},
   "outputs": [],
   "source": []
  },
  {
   "cell_type": "markdown",
   "metadata": {},
   "source": [
    "###  Data Cleaning"
   ]
  },
  {
   "cell_type": "markdown",
   "metadata": {},
   "source": [
    "* Lets drop the columns we dont need"
   ]
  },
  {
   "cell_type": "code",
   "execution_count": 9,
   "metadata": {},
   "outputs": [],
   "source": [
    "train.drop(['Order No','User Id','Vehicle Type'],axis = 1,inplace = True)"
   ]
  },
  {
   "cell_type": "code",
   "execution_count": null,
   "metadata": {},
   "outputs": [],
   "source": []
  },
  {
   "cell_type": "markdown",
   "metadata": {},
   "source": [
    "* Convert the personal or business column to numerical"
   ]
  },
  {
   "cell_type": "code",
   "execution_count": 10,
   "metadata": {},
   "outputs": [
    {
     "data": {
      "text/plain": [
       "Business    17384\n",
       "Personal     3817\n",
       "Name: Personal or Business, dtype: int64"
      ]
     },
     "execution_count": 10,
     "metadata": {},
     "output_type": "execute_result"
    }
   ],
   "source": [
    "train['Personal or Business'].value_counts()"
   ]
  },
  {
   "cell_type": "code",
   "execution_count": 11,
   "metadata": {},
   "outputs": [],
   "source": [
    "p_b = {'Personal':1,'Business':0}\n",
    "train['Personal or Business'] = train['Personal or Business'].map(p_b)"
   ]
  },
  {
   "cell_type": "code",
   "execution_count": null,
   "metadata": {},
   "outputs": [],
   "source": []
  },
  {
   "cell_type": "markdown",
   "metadata": {},
   "source": [
    "### Checking for missing values"
   ]
  },
  {
   "cell_type": "code",
   "execution_count": 12,
   "metadata": {},
   "outputs": [
    {
     "data": {
      "text/plain": [
       "Platform Type                                    0\n",
       "Personal or Business                             0\n",
       "Placement - Day of Month                         0\n",
       "Placement - Weekday (Mo = 1)                     0\n",
       "Placement - Time                                 0\n",
       "Confirmation - Day of Month                      0\n",
       "Confirmation - Weekday (Mo = 1)                  0\n",
       "Confirmation - Time                              0\n",
       "Arrival at Pickup - Day of Month                 0\n",
       "Arrival at Pickup - Weekday (Mo = 1)             0\n",
       "Arrival at Pickup - Time                         0\n",
       "Pickup - Day of Month                            0\n",
       "Pickup - Weekday (Mo = 1)                        0\n",
       "Pickup - Time                                    0\n",
       "Arrival at Destination - Day of Month            0\n",
       "Arrival at Destination - Weekday (Mo = 1)        0\n",
       "Arrival at Destination - Time                    0\n",
       "Distance (KM)                                    0\n",
       "Temperature                                   4366\n",
       "Precipitation in millimeters                 20649\n",
       "Pickup Lat                                       0\n",
       "Pickup Long                                      0\n",
       "Destination Lat                                  0\n",
       "Destination Long                                 0\n",
       "Rider Id                                         0\n",
       "Time from Pickup to Arrival                      0\n",
       "dtype: int64"
      ]
     },
     "execution_count": 12,
     "metadata": {},
     "output_type": "execute_result"
    }
   ],
   "source": [
    "train.isnull().sum()"
   ]
  },
  {
   "cell_type": "code",
   "execution_count": null,
   "metadata": {},
   "outputs": [],
   "source": []
  },
  {
   "cell_type": "markdown",
   "metadata": {},
   "source": [
    "* Conclusion : Precipitaion and Temperature are missing values"
   ]
  },
  {
   "cell_type": "markdown",
   "metadata": {},
   "source": [
    "* Drop the precipitaion column since it is missing more than 3 quaters of the values and fill missing values in Temperature col"
   ]
  },
  {
   "cell_type": "code",
   "execution_count": 13,
   "metadata": {},
   "outputs": [],
   "source": [
    "train['Temperature'].fillna(train['Temperature'].mean(),inplace=True)"
   ]
  },
  {
   "cell_type": "code",
   "execution_count": 14,
   "metadata": {},
   "outputs": [],
   "source": [
    "train.drop(['Precipitation in millimeters'],axis=1,inplace=True)"
   ]
  },
  {
   "cell_type": "code",
   "execution_count": null,
   "metadata": {},
   "outputs": [],
   "source": []
  },
  {
   "cell_type": "markdown",
   "metadata": {},
   "source": [
    "## Analysis of feature vs Target variable"
   ]
  },
  {
   "cell_type": "markdown",
   "metadata": {},
   "source": [
    "###  Platform Type vs Time from Pickup to Arrival"
   ]
  },
  {
   "cell_type": "code",
   "execution_count": 15,
   "metadata": {},
   "outputs": [
    {
     "data": {
      "text/plain": [
       "Platform Type  Time from Pickup to Arrival\n",
       "1              1240                           6\n",
       "               857                            5\n",
       "               879                            5\n",
       "               1144                           5\n",
       "               1241                           5\n",
       "               1360                           5\n",
       "               1369                           5\n",
       "               1390                           5\n",
       "               1506                           5\n",
       "               1522                           5\n",
       "               701                            4\n",
       "               704                            4\n",
       "               737                            4\n",
       "               832                            4\n",
       "               894                            4\n",
       "               900                            4\n",
       "               904                            4\n",
       "               916                            4\n",
       "               972                            4\n",
       "               1026                           4\n",
       "               1132                           4\n",
       "               1152                           4\n",
       "               1177                           4\n",
       "               1195                           4\n",
       "               1201                           4\n",
       "               1238                           4\n",
       "               1244                           4\n",
       "               1259                           4\n",
       "               1268                           4\n",
       "               1287                           4\n",
       "                                             ..\n",
       "3              6806                           1\n",
       "               6850                           1\n",
       "               6991                           1\n",
       "               7035                           1\n",
       "               7100                           1\n",
       "               7143                           1\n",
       "               7387                           1\n",
       "               7491                           1\n",
       "               7646                           1\n",
       "               7714                           1\n",
       "4              356                            1\n",
       "               384                            1\n",
       "               422                            1\n",
       "               613                            1\n",
       "               991                            1\n",
       "               1147                           1\n",
       "               1187                           1\n",
       "               1196                           1\n",
       "               1307                           1\n",
       "               1392                           1\n",
       "               1686                           1\n",
       "               1744                           1\n",
       "               1905                           1\n",
       "               2266                           1\n",
       "               2431                           1\n",
       "               2490                           1\n",
       "               2550                           1\n",
       "               2636                           1\n",
       "               3232                           1\n",
       "               3568                           1\n",
       "Name: Time from Pickup to Arrival, Length: 6271, dtype: int64"
      ]
     },
     "execution_count": 15,
     "metadata": {},
     "output_type": "execute_result"
    }
   ],
   "source": [
    "train.groupby('Platform Type')['Time from Pickup to Arrival'].value_counts()"
   ]
  },
  {
   "cell_type": "code",
   "execution_count": 16,
   "metadata": {},
   "outputs": [
    {
     "data": {
      "text/html": [
       "<div>\n",
       "<style scoped>\n",
       "    .dataframe tbody tr th:only-of-type {\n",
       "        vertical-align: middle;\n",
       "    }\n",
       "\n",
       "    .dataframe tbody tr th {\n",
       "        vertical-align: top;\n",
       "    }\n",
       "\n",
       "    .dataframe thead th {\n",
       "        text-align: right;\n",
       "    }\n",
       "</style>\n",
       "<table border=\"1\" class=\"dataframe\">\n",
       "  <thead>\n",
       "    <tr style=\"text-align: right;\">\n",
       "      <th></th>\n",
       "      <th>Platform Type</th>\n",
       "      <th>Time from Pickup to Arrival</th>\n",
       "    </tr>\n",
       "  </thead>\n",
       "  <tbody>\n",
       "    <tr>\n",
       "      <th>0</th>\n",
       "      <td>1</td>\n",
       "      <td>1572.799721</td>\n",
       "    </tr>\n",
       "    <tr>\n",
       "      <th>1</th>\n",
       "      <td>2</td>\n",
       "      <td>1540.861224</td>\n",
       "    </tr>\n",
       "    <tr>\n",
       "      <th>2</th>\n",
       "      <td>3</td>\n",
       "      <td>1555.773402</td>\n",
       "    </tr>\n",
       "    <tr>\n",
       "      <th>3</th>\n",
       "      <td>4</td>\n",
       "      <td>1675.150000</td>\n",
       "    </tr>\n",
       "  </tbody>\n",
       "</table>\n",
       "</div>"
      ],
      "text/plain": [
       "   Platform Type  Time from Pickup to Arrival\n",
       "0              1                  1572.799721\n",
       "1              2                  1540.861224\n",
       "2              3                  1555.773402\n",
       "3              4                  1675.150000"
      ]
     },
     "execution_count": 16,
     "metadata": {},
     "output_type": "execute_result"
    }
   ],
   "source": [
    "train[['Platform Type', 'Time from Pickup to Arrival']].groupby(['Platform Type'], as_index=False).mean()"
   ]
  },
  {
   "cell_type": "code",
   "execution_count": 17,
   "metadata": {},
   "outputs": [],
   "source": [
    "#platform 2 has the lowest average time from pickup to arrival"
   ]
  },
  {
   "cell_type": "code",
   "execution_count": 18,
   "metadata": {},
   "outputs": [
    {
     "data": {
      "text/plain": [
       "<matplotlib.axes._subplots.AxesSubplot at 0x25ee1e82358>"
      ]
     },
     "execution_count": 18,
     "metadata": {},
     "output_type": "execute_result"
    },
    {
     "data": {
      "image/png": "[encoded data removed]",
      "text/plain": [
       "<Figure size 432x288 with 1 Axes>"
      ]
     },
     "metadata": {
      "needs_background": "light"
     },
     "output_type": "display_data"
    }
   ],
   "source": [
    "sns.barplot(x='Platform Type', y='Time from Pickup to Arrival', data=train)"
   ]
  },
  {
   "cell_type": "code",
   "execution_count": null,
   "metadata": {},
   "outputs": [],
   "source": []
  },
  {
   "cell_type": "markdown",
   "metadata": {},
   "source": [
    "### Personal or Business vs Time from Pickup to Arrival"
   ]
  },
  {
   "cell_type": "code",
   "execution_count": 19,
   "metadata": {},
   "outputs": [
    {
     "data": {
      "text/plain": [
       "0    17384\n",
       "1     3817\n",
       "Name: Personal or Business, dtype: int64"
      ]
     },
     "execution_count": 19,
     "metadata": {},
     "output_type": "execute_result"
    }
   ],
   "source": [
    "train['Personal or Business'].value_counts()"
   ]
  },
  {
   "cell_type": "code",
   "execution_count": 20,
   "metadata": {},
   "outputs": [
    {
     "data": {
      "text/html": [
       "<div>\n",
       "<style scoped>\n",
       "    .dataframe tbody tr th:only-of-type {\n",
       "        vertical-align: middle;\n",
       "    }\n",
       "\n",
       "    .dataframe tbody tr th {\n",
       "        vertical-align: top;\n",
       "    }\n",
       "\n",
       "    .dataframe thead th {\n",
       "        text-align: right;\n",
       "    }\n",
       "</style>\n",
       "<table border=\"1\" class=\"dataframe\">\n",
       "  <thead>\n",
       "    <tr style=\"text-align: right;\">\n",
       "      <th></th>\n",
       "      <th>Personal or Business</th>\n",
       "      <th>Time from Pickup to Arrival</th>\n",
       "    </tr>\n",
       "  </thead>\n",
       "  <tbody>\n",
       "    <tr>\n",
       "      <th>0</th>\n",
       "      <td>0</td>\n",
       "      <td>1550.743270</td>\n",
       "    </tr>\n",
       "    <tr>\n",
       "      <th>1</th>\n",
       "      <td>1</td>\n",
       "      <td>1585.056327</td>\n",
       "    </tr>\n",
       "  </tbody>\n",
       "</table>\n",
       "</div>"
      ],
      "text/plain": [
       "   Personal or Business  Time from Pickup to Arrival\n",
       "0                     0                  1550.743270\n",
       "1                     1                  1585.056327"
      ]
     },
     "execution_count": 20,
     "metadata": {},
     "output_type": "execute_result"
    }
   ],
   "source": [
    "train[['Personal or Business', 'Time from Pickup to Arrival']].groupby(['Personal or Business'], as_index=False).mean()"
   ]
  },
  {
   "cell_type": "code",
   "execution_count": 21,
   "metadata": {},
   "outputs": [],
   "source": [
    "#business orders have a lower pickup to arrival time"
   ]
  },
  {
   "cell_type": "code",
   "execution_count": 22,
   "metadata": {},
   "outputs": [
    {
     "data": {
      "text/plain": [
       "<matplotlib.axes._subplots.AxesSubplot at 0x25eee24f128>"
      ]
     },
     "execution_count": 22,
     "metadata": {},
     "output_type": "execute_result"
    },
    {
     "data": {
      "image/png": "[encoded data removed]",
      "text/plain": [
       "<Figure size 432x288 with 1 Axes>"
      ]
     },
     "metadata": {
      "needs_background": "light"
     },
     "output_type": "display_data"
    }
   ],
   "source": [
    "sns.barplot(x='Personal or Business', y='Time from Pickup to Arrival', data=train)"
   ]
  },
  {
   "cell_type": "code",
   "execution_count": null,
   "metadata": {},
   "outputs": [],
   "source": []
  },
  {
   "cell_type": "markdown",
   "metadata": {},
   "source": [
    "### Platform Type & Personal or Business vs Time from Pickup to Arrival"
   ]
  },
  {
   "cell_type": "code",
   "execution_count": 23,
   "metadata": {},
   "outputs": [
    {
     "name": "stdout",
     "output_type": "stream",
     "text": [
      "Personal or Business      0     1\n",
      "Platform Type                    \n",
      "1                       317  1830\n",
      "2                        63   917\n",
      "3                     16984  1070\n",
      "4                        20     0\n"
     ]
    },
    {
     "data": {
      "text/plain": [
       "Text(0, 0.5, 'Percentage')"
      ]
     },
     "execution_count": 23,
     "metadata": {},
     "output_type": "execute_result"
    },
    {
     "data": {
      "image/png": "[encoded data removed]",
      "text/plain": [
       "<Figure size 432x288 with 1 Axes>"
      ]
     },
     "metadata": {
      "needs_background": "light"
     },
     "output_type": "display_data"
    }
   ],
   "source": [
    "tab = pd.crosstab(train['Platform Type'], train['Personal or Business'])\n",
    "print (tab)\n",
    "\n",
    "tab.div(tab.sum(1).astype(float), axis=0).plot(kind=\"bar\", stacked=True)\n",
    "plt.xlabel('Platform Type')\n",
    "plt.ylabel('Percentage')"
   ]
  },
  {
   "cell_type": "code",
   "execution_count": null,
   "metadata": {},
   "outputs": [],
   "source": []
  },
  {
   "cell_type": "code",
   "execution_count": 24,
   "metadata": {},
   "outputs": [
    {
     "data": {
      "text/plain": [
       "<seaborn.axisgrid.FacetGrid at 0x25eee3722b0>"
      ]
     },
     "execution_count": 24,
     "metadata": {},
     "output_type": "execute_result"
    },
    {
     "data": {
      "image/png": "[encoded data removed]",
      "text/plain": [
       "<Figure size 646.5x288 with 1 Axes>"
      ]
     },
     "metadata": {
      "needs_background": "light"
     },
     "output_type": "display_data"
    }
   ],
   "source": [
    "sns.factorplot('Personal or Business', 'Time from Pickup to Arrival', hue='Platform Type', size=4, aspect=2, data=train)"
   ]
  },
  {
   "cell_type": "code",
   "execution_count": null,
   "metadata": {},
   "outputs": [],
   "source": []
  },
  {
   "cell_type": "code",
   "execution_count": null,
   "metadata": {},
   "outputs": [],
   "source": []
  },
  {
   "cell_type": "markdown",
   "metadata": {},
   "source": [
    "###  Distance (KM) vs Time from Pickup to Arrival"
   ]
  },
  {
   "cell_type": "code",
   "execution_count": 25,
   "metadata": {},
   "outputs": [
    {
     "data": {
      "text/html": [
       "<div>\n",
       "<style scoped>\n",
       "    .dataframe tbody tr th:only-of-type {\n",
       "        vertical-align: middle;\n",
       "    }\n",
       "\n",
       "    .dataframe tbody tr th {\n",
       "        vertical-align: top;\n",
       "    }\n",
       "\n",
       "    .dataframe thead th {\n",
       "        text-align: right;\n",
       "    }\n",
       "</style>\n",
       "<table border=\"1\" class=\"dataframe\">\n",
       "  <thead>\n",
       "    <tr style=\"text-align: right;\">\n",
       "      <th></th>\n",
       "      <th>Distance (KM)</th>\n",
       "      <th>Time from Pickup to Arrival</th>\n",
       "    </tr>\n",
       "  </thead>\n",
       "  <tbody>\n",
       "    <tr>\n",
       "      <th>0</th>\n",
       "      <td>1</td>\n",
       "      <td>510.019544</td>\n",
       "    </tr>\n",
       "    <tr>\n",
       "      <th>1</th>\n",
       "      <td>2</td>\n",
       "      <td>594.731169</td>\n",
       "    </tr>\n",
       "    <tr>\n",
       "      <th>2</th>\n",
       "      <td>3</td>\n",
       "      <td>796.038704</td>\n",
       "    </tr>\n",
       "    <tr>\n",
       "      <th>3</th>\n",
       "      <td>4</td>\n",
       "      <td>867.362388</td>\n",
       "    </tr>\n",
       "    <tr>\n",
       "      <th>4</th>\n",
       "      <td>5</td>\n",
       "      <td>1136.404873</td>\n",
       "    </tr>\n",
       "    <tr>\n",
       "      <th>5</th>\n",
       "      <td>6</td>\n",
       "      <td>1258.939166</td>\n",
       "    </tr>\n",
       "    <tr>\n",
       "      <th>6</th>\n",
       "      <td>7</td>\n",
       "      <td>1401.198565</td>\n",
       "    </tr>\n",
       "    <tr>\n",
       "      <th>7</th>\n",
       "      <td>8</td>\n",
       "      <td>1492.921439</td>\n",
       "    </tr>\n",
       "    <tr>\n",
       "      <th>8</th>\n",
       "      <td>9</td>\n",
       "      <td>1575.961722</td>\n",
       "    </tr>\n",
       "    <tr>\n",
       "      <th>9</th>\n",
       "      <td>10</td>\n",
       "      <td>1634.632530</td>\n",
       "    </tr>\n",
       "    <tr>\n",
       "      <th>10</th>\n",
       "      <td>11</td>\n",
       "      <td>1679.505825</td>\n",
       "    </tr>\n",
       "    <tr>\n",
       "      <th>11</th>\n",
       "      <td>12</td>\n",
       "      <td>1905.503928</td>\n",
       "    </tr>\n",
       "    <tr>\n",
       "      <th>12</th>\n",
       "      <td>13</td>\n",
       "      <td>1931.539130</td>\n",
       "    </tr>\n",
       "    <tr>\n",
       "      <th>13</th>\n",
       "      <td>14</td>\n",
       "      <td>1956.945263</td>\n",
       "    </tr>\n",
       "    <tr>\n",
       "      <th>14</th>\n",
       "      <td>15</td>\n",
       "      <td>2155.577444</td>\n",
       "    </tr>\n",
       "    <tr>\n",
       "      <th>15</th>\n",
       "      <td>16</td>\n",
       "      <td>2250.208647</td>\n",
       "    </tr>\n",
       "    <tr>\n",
       "      <th>16</th>\n",
       "      <td>17</td>\n",
       "      <td>2301.745698</td>\n",
       "    </tr>\n",
       "    <tr>\n",
       "      <th>17</th>\n",
       "      <td>18</td>\n",
       "      <td>2439.069114</td>\n",
       "    </tr>\n",
       "    <tr>\n",
       "      <th>18</th>\n",
       "      <td>19</td>\n",
       "      <td>2438.400000</td>\n",
       "    </tr>\n",
       "    <tr>\n",
       "      <th>19</th>\n",
       "      <td>20</td>\n",
       "      <td>2575.598784</td>\n",
       "    </tr>\n",
       "    <tr>\n",
       "      <th>20</th>\n",
       "      <td>21</td>\n",
       "      <td>2573.596958</td>\n",
       "    </tr>\n",
       "    <tr>\n",
       "      <th>21</th>\n",
       "      <td>22</td>\n",
       "      <td>2771.341969</td>\n",
       "    </tr>\n",
       "    <tr>\n",
       "      <th>22</th>\n",
       "      <td>23</td>\n",
       "      <td>2972.301676</td>\n",
       "    </tr>\n",
       "    <tr>\n",
       "      <th>23</th>\n",
       "      <td>24</td>\n",
       "      <td>3102.000000</td>\n",
       "    </tr>\n",
       "    <tr>\n",
       "      <th>24</th>\n",
       "      <td>25</td>\n",
       "      <td>2672.660377</td>\n",
       "    </tr>\n",
       "    <tr>\n",
       "      <th>25</th>\n",
       "      <td>26</td>\n",
       "      <td>3059.480000</td>\n",
       "    </tr>\n",
       "    <tr>\n",
       "      <th>26</th>\n",
       "      <td>27</td>\n",
       "      <td>3315.977273</td>\n",
       "    </tr>\n",
       "    <tr>\n",
       "      <th>27</th>\n",
       "      <td>28</td>\n",
       "      <td>3349.589286</td>\n",
       "    </tr>\n",
       "    <tr>\n",
       "      <th>28</th>\n",
       "      <td>29</td>\n",
       "      <td>2981.806452</td>\n",
       "    </tr>\n",
       "    <tr>\n",
       "      <th>29</th>\n",
       "      <td>30</td>\n",
       "      <td>3331.454545</td>\n",
       "    </tr>\n",
       "    <tr>\n",
       "      <th>30</th>\n",
       "      <td>31</td>\n",
       "      <td>3602.500000</td>\n",
       "    </tr>\n",
       "    <tr>\n",
       "      <th>31</th>\n",
       "      <td>32</td>\n",
       "      <td>3870.000000</td>\n",
       "    </tr>\n",
       "    <tr>\n",
       "      <th>32</th>\n",
       "      <td>33</td>\n",
       "      <td>3745.100000</td>\n",
       "    </tr>\n",
       "    <tr>\n",
       "      <th>33</th>\n",
       "      <td>34</td>\n",
       "      <td>3534.750000</td>\n",
       "    </tr>\n",
       "    <tr>\n",
       "      <th>34</th>\n",
       "      <td>35</td>\n",
       "      <td>2878.500000</td>\n",
       "    </tr>\n",
       "    <tr>\n",
       "      <th>35</th>\n",
       "      <td>36</td>\n",
       "      <td>3286.285714</td>\n",
       "    </tr>\n",
       "    <tr>\n",
       "      <th>36</th>\n",
       "      <td>37</td>\n",
       "      <td>3968.250000</td>\n",
       "    </tr>\n",
       "    <tr>\n",
       "      <th>37</th>\n",
       "      <td>38</td>\n",
       "      <td>4457.500000</td>\n",
       "    </tr>\n",
       "    <tr>\n",
       "      <th>38</th>\n",
       "      <td>39</td>\n",
       "      <td>3667.000000</td>\n",
       "    </tr>\n",
       "    <tr>\n",
       "      <th>39</th>\n",
       "      <td>40</td>\n",
       "      <td>2789.000000</td>\n",
       "    </tr>\n",
       "    <tr>\n",
       "      <th>40</th>\n",
       "      <td>41</td>\n",
       "      <td>3722.500000</td>\n",
       "    </tr>\n",
       "    <tr>\n",
       "      <th>41</th>\n",
       "      <td>44</td>\n",
       "      <td>4233.000000</td>\n",
       "    </tr>\n",
       "    <tr>\n",
       "      <th>42</th>\n",
       "      <td>46</td>\n",
       "      <td>4797.000000</td>\n",
       "    </tr>\n",
       "    <tr>\n",
       "      <th>43</th>\n",
       "      <td>48</td>\n",
       "      <td>5530.000000</td>\n",
       "    </tr>\n",
       "    <tr>\n",
       "      <th>44</th>\n",
       "      <td>49</td>\n",
       "      <td>3799.000000</td>\n",
       "    </tr>\n",
       "  </tbody>\n",
       "</table>\n",
       "</div>"
      ],
      "text/plain": [
       "    Distance (KM)  Time from Pickup to Arrival\n",
       "0               1                   510.019544\n",
       "1               2                   594.731169\n",
       "2               3                   796.038704\n",
       "3               4                   867.362388\n",
       "4               5                  1136.404873\n",
       "5               6                  1258.939166\n",
       "6               7                  1401.198565\n",
       "7               8                  1492.921439\n",
       "8               9                  1575.961722\n",
       "9              10                  1634.632530\n",
       "10             11                  1679.505825\n",
       "11             12                  1905.503928\n",
       "12             13                  1931.539130\n",
       "13             14                  1956.945263\n",
       "14             15                  2155.577444\n",
       "15             16                  2250.208647\n",
       "16             17                  2301.745698\n",
       "17             18                  2439.069114\n",
       "18             19                  2438.400000\n",
       "19             20                  2575.598784\n",
       "20             21                  2573.596958\n",
       "21             22                  2771.341969\n",
       "22             23                  2972.301676\n",
       "23             24                  3102.000000\n",
       "24             25                  2672.660377\n",
       "25             26                  3059.480000\n",
       "26             27                  3315.977273\n",
       "27             28                  3349.589286\n",
       "28             29                  2981.806452\n",
       "29             30                  3331.454545\n",
       "30             31                  3602.500000\n",
       "31             32                  3870.000000\n",
       "32             33                  3745.100000\n",
       "33             34                  3534.750000\n",
       "34             35                  2878.500000\n",
       "35             36                  3286.285714\n",
       "36             37                  3968.250000\n",
       "37             38                  4457.500000\n",
       "38             39                  3667.000000\n",
       "39             40                  2789.000000\n",
       "40             41                  3722.500000\n",
       "41             44                  4233.000000\n",
       "42             46                  4797.000000\n",
       "43             48                  5530.000000\n",
       "44             49                  3799.000000"
      ]
     },
     "execution_count": 25,
     "metadata": {},
     "output_type": "execute_result"
    }
   ],
   "source": [
    "train[['Distance (KM)', 'Time from Pickup to Arrival']].groupby(['Distance (KM)'], as_index=False).mean()"
   ]
  },
  {
   "cell_type": "code",
   "execution_count": 26,
   "metadata": {},
   "outputs": [
    {
     "data": {
      "text/plain": [
       "<matplotlib.axes._subplots.AxesSubplot at 0x25eee3dc0b8>"
      ]
     },
     "execution_count": 26,
     "metadata": {},
     "output_type": "execute_result"
    },
    {
     "data": {
      "image/png": "[encoded data removed]",
      "text/plain": [
       "<Figure size 432x288 with 1 Axes>"
      ]
     },
     "metadata": {
      "needs_background": "light"
     },
     "output_type": "display_data"
    }
   ],
   "source": [
    "sns.barplot(x='Distance (KM)', y='Time from Pickup to Arrival', ci=None, data=train) # ci=None will hide the error bar"
   ]
  },
  {
   "cell_type": "code",
   "execution_count": null,
   "metadata": {},
   "outputs": [],
   "source": []
  },
  {
   "cell_type": "markdown",
   "metadata": {},
   "source": [
    "### Temperature vs Time from Pickup to Arrival"
   ]
  },
  {
   "cell_type": "code",
   "execution_count": 27,
   "metadata": {},
   "outputs": [
    {
     "data": {
      "text/plain": [
       "23.258889    4366\n",
       "24.700000     201\n",
       "22.400000     196\n",
       "23.800000     195\n",
       "23.700000     191\n",
       "24.600000     189\n",
       "23.600000     188\n",
       "25.200000     184\n",
       "22.500000     183\n",
       "27.300000     179\n",
       "24.800000     178\n",
       "24.500000     178\n",
       "23.900000     177\n",
       "24.000000     177\n",
       "25.300000     175\n",
       "24.900000     173\n",
       "24.200000     170\n",
       "24.400000     169\n",
       "25.500000     168\n",
       "25.400000     168\n",
       "25.000000     168\n",
       "25.600000     166\n",
       "21.300000     166\n",
       "21.200000     166\n",
       "26.300000     163\n",
       "23.200000     162\n",
       "22.300000     161\n",
       "22.100000     161\n",
       "22.600000     160\n",
       "27.500000     160\n",
       "             ... \n",
       "30.100000      18\n",
       "30.000000      18\n",
       "15.000000      17\n",
       "15.800000      16\n",
       "30.400000      16\n",
       "14.400000      16\n",
       "15.700000      15\n",
       "15.900000      13\n",
       "30.300000      13\n",
       "14.900000      13\n",
       "14.600000      11\n",
       "14.300000       9\n",
       "14.200000       7\n",
       "14.100000       6\n",
       "31.800000       6\n",
       "13.600000       6\n",
       "13.300000       6\n",
       "31.300000       6\n",
       "13.700000       5\n",
       "13.200000       5\n",
       "13.400000       5\n",
       "13.500000       4\n",
       "32.100000       4\n",
       "31.700000       3\n",
       "13.900000       2\n",
       "32.000000       2\n",
       "31.900000       2\n",
       "13.800000       1\n",
       "14.000000       1\n",
       "11.200000       1\n",
       "Name: Temperature, Length: 189, dtype: int64"
      ]
     },
     "execution_count": 27,
     "metadata": {},
     "output_type": "execute_result"
    }
   ],
   "source": [
    "train.Temperature.value_counts()"
   ]
  },
  {
   "cell_type": "code",
   "execution_count": 28,
   "metadata": {},
   "outputs": [
    {
     "data": {
      "text/html": [
       "<div>\n",
       "<style scoped>\n",
       "    .dataframe tbody tr th:only-of-type {\n",
       "        vertical-align: middle;\n",
       "    }\n",
       "\n",
       "    .dataframe tbody tr th {\n",
       "        vertical-align: top;\n",
       "    }\n",
       "\n",
       "    .dataframe thead th {\n",
       "        text-align: right;\n",
       "    }\n",
       "</style>\n",
       "<table border=\"1\" class=\"dataframe\">\n",
       "  <thead>\n",
       "    <tr style=\"text-align: right;\">\n",
       "      <th></th>\n",
       "      <th>Temperature</th>\n",
       "      <th>Time from Pickup to Arrival</th>\n",
       "    </tr>\n",
       "  </thead>\n",
       "  <tbody>\n",
       "    <tr>\n",
       "      <th>0</th>\n",
       "      <td>11.2</td>\n",
       "      <td>1046.000000</td>\n",
       "    </tr>\n",
       "    <tr>\n",
       "      <th>1</th>\n",
       "      <td>13.2</td>\n",
       "      <td>1546.800000</td>\n",
       "    </tr>\n",
       "    <tr>\n",
       "      <th>2</th>\n",
       "      <td>13.3</td>\n",
       "      <td>1683.833333</td>\n",
       "    </tr>\n",
       "    <tr>\n",
       "      <th>3</th>\n",
       "      <td>13.4</td>\n",
       "      <td>768.800000</td>\n",
       "    </tr>\n",
       "    <tr>\n",
       "      <th>4</th>\n",
       "      <td>13.5</td>\n",
       "      <td>2105.000000</td>\n",
       "    </tr>\n",
       "    <tr>\n",
       "      <th>5</th>\n",
       "      <td>13.6</td>\n",
       "      <td>814.666667</td>\n",
       "    </tr>\n",
       "    <tr>\n",
       "      <th>6</th>\n",
       "      <td>13.7</td>\n",
       "      <td>2986.400000</td>\n",
       "    </tr>\n",
       "    <tr>\n",
       "      <th>7</th>\n",
       "      <td>13.8</td>\n",
       "      <td>2253.000000</td>\n",
       "    </tr>\n",
       "    <tr>\n",
       "      <th>8</th>\n",
       "      <td>13.9</td>\n",
       "      <td>1255.000000</td>\n",
       "    </tr>\n",
       "    <tr>\n",
       "      <th>9</th>\n",
       "      <td>14.0</td>\n",
       "      <td>1344.000000</td>\n",
       "    </tr>\n",
       "    <tr>\n",
       "      <th>10</th>\n",
       "      <td>14.1</td>\n",
       "      <td>918.000000</td>\n",
       "    </tr>\n",
       "    <tr>\n",
       "      <th>11</th>\n",
       "      <td>14.2</td>\n",
       "      <td>1665.714286</td>\n",
       "    </tr>\n",
       "    <tr>\n",
       "      <th>12</th>\n",
       "      <td>14.3</td>\n",
       "      <td>1783.555556</td>\n",
       "    </tr>\n",
       "    <tr>\n",
       "      <th>13</th>\n",
       "      <td>14.4</td>\n",
       "      <td>1427.937500</td>\n",
       "    </tr>\n",
       "    <tr>\n",
       "      <th>14</th>\n",
       "      <td>14.5</td>\n",
       "      <td>1463.208333</td>\n",
       "    </tr>\n",
       "    <tr>\n",
       "      <th>15</th>\n",
       "      <td>14.6</td>\n",
       "      <td>1259.727273</td>\n",
       "    </tr>\n",
       "    <tr>\n",
       "      <th>16</th>\n",
       "      <td>14.7</td>\n",
       "      <td>1236.863636</td>\n",
       "    </tr>\n",
       "    <tr>\n",
       "      <th>17</th>\n",
       "      <td>14.8</td>\n",
       "      <td>1505.500000</td>\n",
       "    </tr>\n",
       "    <tr>\n",
       "      <th>18</th>\n",
       "      <td>14.9</td>\n",
       "      <td>1424.000000</td>\n",
       "    </tr>\n",
       "    <tr>\n",
       "      <th>19</th>\n",
       "      <td>15.0</td>\n",
       "      <td>1541.588235</td>\n",
       "    </tr>\n",
       "    <tr>\n",
       "      <th>20</th>\n",
       "      <td>15.1</td>\n",
       "      <td>1346.148148</td>\n",
       "    </tr>\n",
       "    <tr>\n",
       "      <th>21</th>\n",
       "      <td>15.2</td>\n",
       "      <td>1507.965517</td>\n",
       "    </tr>\n",
       "    <tr>\n",
       "      <th>22</th>\n",
       "      <td>15.3</td>\n",
       "      <td>1645.700000</td>\n",
       "    </tr>\n",
       "    <tr>\n",
       "      <th>23</th>\n",
       "      <td>15.4</td>\n",
       "      <td>1717.000000</td>\n",
       "    </tr>\n",
       "    <tr>\n",
       "      <th>24</th>\n",
       "      <td>15.5</td>\n",
       "      <td>1334.050000</td>\n",
       "    </tr>\n",
       "    <tr>\n",
       "      <th>25</th>\n",
       "      <td>15.6</td>\n",
       "      <td>1520.083333</td>\n",
       "    </tr>\n",
       "    <tr>\n",
       "      <th>26</th>\n",
       "      <td>15.7</td>\n",
       "      <td>1258.133333</td>\n",
       "    </tr>\n",
       "    <tr>\n",
       "      <th>27</th>\n",
       "      <td>15.8</td>\n",
       "      <td>1655.000000</td>\n",
       "    </tr>\n",
       "    <tr>\n",
       "      <th>28</th>\n",
       "      <td>15.9</td>\n",
       "      <td>1489.846154</td>\n",
       "    </tr>\n",
       "    <tr>\n",
       "      <th>29</th>\n",
       "      <td>16.0</td>\n",
       "      <td>1285.650000</td>\n",
       "    </tr>\n",
       "    <tr>\n",
       "      <th>...</th>\n",
       "      <td>...</td>\n",
       "      <td>...</td>\n",
       "    </tr>\n",
       "    <tr>\n",
       "      <th>159</th>\n",
       "      <td>28.9</td>\n",
       "      <td>1534.160000</td>\n",
       "    </tr>\n",
       "    <tr>\n",
       "      <th>160</th>\n",
       "      <td>29.0</td>\n",
       "      <td>1557.454545</td>\n",
       "    </tr>\n",
       "    <tr>\n",
       "      <th>161</th>\n",
       "      <td>29.1</td>\n",
       "      <td>1440.250000</td>\n",
       "    </tr>\n",
       "    <tr>\n",
       "      <th>162</th>\n",
       "      <td>29.2</td>\n",
       "      <td>1419.282609</td>\n",
       "    </tr>\n",
       "    <tr>\n",
       "      <th>163</th>\n",
       "      <td>29.3</td>\n",
       "      <td>1637.727273</td>\n",
       "    </tr>\n",
       "    <tr>\n",
       "      <th>164</th>\n",
       "      <td>29.4</td>\n",
       "      <td>1510.631579</td>\n",
       "    </tr>\n",
       "    <tr>\n",
       "      <th>165</th>\n",
       "      <td>29.5</td>\n",
       "      <td>1525.686275</td>\n",
       "    </tr>\n",
       "    <tr>\n",
       "      <th>166</th>\n",
       "      <td>29.6</td>\n",
       "      <td>1721.472222</td>\n",
       "    </tr>\n",
       "    <tr>\n",
       "      <th>167</th>\n",
       "      <td>29.7</td>\n",
       "      <td>1556.608696</td>\n",
       "    </tr>\n",
       "    <tr>\n",
       "      <th>168</th>\n",
       "      <td>29.8</td>\n",
       "      <td>1346.107143</td>\n",
       "    </tr>\n",
       "    <tr>\n",
       "      <th>169</th>\n",
       "      <td>29.9</td>\n",
       "      <td>1258.447368</td>\n",
       "    </tr>\n",
       "    <tr>\n",
       "      <th>170</th>\n",
       "      <td>30.0</td>\n",
       "      <td>1491.000000</td>\n",
       "    </tr>\n",
       "    <tr>\n",
       "      <th>171</th>\n",
       "      <td>30.1</td>\n",
       "      <td>1208.611111</td>\n",
       "    </tr>\n",
       "    <tr>\n",
       "      <th>172</th>\n",
       "      <td>30.2</td>\n",
       "      <td>2130.964286</td>\n",
       "    </tr>\n",
       "    <tr>\n",
       "      <th>173</th>\n",
       "      <td>30.3</td>\n",
       "      <td>1636.615385</td>\n",
       "    </tr>\n",
       "    <tr>\n",
       "      <th>174</th>\n",
       "      <td>30.4</td>\n",
       "      <td>1970.812500</td>\n",
       "    </tr>\n",
       "    <tr>\n",
       "      <th>175</th>\n",
       "      <td>30.5</td>\n",
       "      <td>2062.727273</td>\n",
       "    </tr>\n",
       "    <tr>\n",
       "      <th>176</th>\n",
       "      <td>30.6</td>\n",
       "      <td>1586.156250</td>\n",
       "    </tr>\n",
       "    <tr>\n",
       "      <th>177</th>\n",
       "      <td>30.7</td>\n",
       "      <td>1605.695652</td>\n",
       "    </tr>\n",
       "    <tr>\n",
       "      <th>178</th>\n",
       "      <td>30.8</td>\n",
       "      <td>1366.641026</td>\n",
       "    </tr>\n",
       "    <tr>\n",
       "      <th>179</th>\n",
       "      <td>30.9</td>\n",
       "      <td>1485.600000</td>\n",
       "    </tr>\n",
       "    <tr>\n",
       "      <th>180</th>\n",
       "      <td>31.0</td>\n",
       "      <td>1577.210526</td>\n",
       "    </tr>\n",
       "    <tr>\n",
       "      <th>181</th>\n",
       "      <td>31.1</td>\n",
       "      <td>1594.000000</td>\n",
       "    </tr>\n",
       "    <tr>\n",
       "      <th>182</th>\n",
       "      <td>31.2</td>\n",
       "      <td>1531.103448</td>\n",
       "    </tr>\n",
       "    <tr>\n",
       "      <th>183</th>\n",
       "      <td>31.3</td>\n",
       "      <td>1480.333333</td>\n",
       "    </tr>\n",
       "    <tr>\n",
       "      <th>184</th>\n",
       "      <td>31.7</td>\n",
       "      <td>1345.000000</td>\n",
       "    </tr>\n",
       "    <tr>\n",
       "      <th>185</th>\n",
       "      <td>31.8</td>\n",
       "      <td>1895.666667</td>\n",
       "    </tr>\n",
       "    <tr>\n",
       "      <th>186</th>\n",
       "      <td>31.9</td>\n",
       "      <td>1182.500000</td>\n",
       "    </tr>\n",
       "    <tr>\n",
       "      <th>187</th>\n",
       "      <td>32.0</td>\n",
       "      <td>696.500000</td>\n",
       "    </tr>\n",
       "    <tr>\n",
       "      <th>188</th>\n",
       "      <td>32.1</td>\n",
       "      <td>2340.250000</td>\n",
       "    </tr>\n",
       "  </tbody>\n",
       "</table>\n",
       "<p>189 rows × 2 columns</p>\n",
       "</div>"
      ],
      "text/plain": [
       "     Temperature  Time from Pickup to Arrival\n",
       "0           11.2                  1046.000000\n",
       "1           13.2                  1546.800000\n",
       "2           13.3                  1683.833333\n",
       "3           13.4                   768.800000\n",
       "4           13.5                  2105.000000\n",
       "5           13.6                   814.666667\n",
       "6           13.7                  2986.400000\n",
       "7           13.8                  2253.000000\n",
       "8           13.9                  1255.000000\n",
       "9           14.0                  1344.000000\n",
       "10          14.1                   918.000000\n",
       "11          14.2                  1665.714286\n",
       "12          14.3                  1783.555556\n",
       "13          14.4                  1427.937500\n",
       "14          14.5                  1463.208333\n",
       "15          14.6                  1259.727273\n",
       "16          14.7                  1236.863636\n",
       "17          14.8                  1505.500000\n",
       "18          14.9                  1424.000000\n",
       "19          15.0                  1541.588235\n",
       "20          15.1                  1346.148148\n",
       "21          15.2                  1507.965517\n",
       "22          15.3                  1645.700000\n",
       "23          15.4                  1717.000000\n",
       "24          15.5                  1334.050000\n",
       "25          15.6                  1520.083333\n",
       "26          15.7                  1258.133333\n",
       "27          15.8                  1655.000000\n",
       "28          15.9                  1489.846154\n",
       "29          16.0                  1285.650000\n",
       "..           ...                          ...\n",
       "159         28.9                  1534.160000\n",
       "160         29.0                  1557.454545\n",
       "161         29.1                  1440.250000\n",
       "162         29.2                  1419.282609\n",
       "163         29.3                  1637.727273\n",
       "164         29.4                  1510.631579\n",
       "165         29.5                  1525.686275\n",
       "166         29.6                  1721.472222\n",
       "167         29.7                  1556.608696\n",
       "168         29.8                  1346.107143\n",
       "169         29.9                  1258.447368\n",
       "170         30.0                  1491.000000\n",
       "171         30.1                  1208.611111\n",
       "172         30.2                  2130.964286\n",
       "173         30.3                  1636.615385\n",
       "174         30.4                  1970.812500\n",
       "175         30.5                  2062.727273\n",
       "176         30.6                  1586.156250\n",
       "177         30.7                  1605.695652\n",
       "178         30.8                  1366.641026\n",
       "179         30.9                  1485.600000\n",
       "180         31.0                  1577.210526\n",
       "181         31.1                  1594.000000\n",
       "182         31.2                  1531.103448\n",
       "183         31.3                  1480.333333\n",
       "184         31.7                  1345.000000\n",
       "185         31.8                  1895.666667\n",
       "186         31.9                  1182.500000\n",
       "187         32.0                   696.500000\n",
       "188         32.1                  2340.250000\n",
       "\n",
       "[189 rows x 2 columns]"
      ]
     },
     "execution_count": 28,
     "metadata": {},
     "output_type": "execute_result"
    }
   ],
   "source": [
    "train[['Temperature', 'Time from Pickup to Arrival']].groupby(['Temperature'], as_index=False).mean()"
   ]
  },
  {
   "cell_type": "code",
   "execution_count": 29,
   "metadata": {},
   "outputs": [
    {
     "data": {
      "text/plain": [
       "<matplotlib.axes._subplots.AxesSubplot at 0x25eee4f0c50>"
      ]
     },
     "execution_count": 29,
     "metadata": {},
     "output_type": "execute_result"
    },
    {
     "data": {
      "image/png": "[encoded data removed]",
      "text/plain": [
       "<Figure size 432x288 with 1 Axes>"
      ]
     },
     "metadata": {
      "needs_background": "light"
     },
     "output_type": "display_data"
    }
   ],
   "source": [
    "sns.lineplot(x='Temperature', y='Time from Pickup to Arrival', ci=None, data=train) # ci=None will hide the error bar"
   ]
  },
  {
   "cell_type": "code",
   "execution_count": null,
   "metadata": {},
   "outputs": [],
   "source": []
  },
  {
   "cell_type": "markdown",
   "metadata": {},
   "source": [
    "## Exloration of the above variables vs the target using featexp module"
   ]
  },
  {
   "cell_type": "code",
   "execution_count": 30,
   "metadata": {},
   "outputs": [],
   "source": [
    "from featexp import get_univariate_plots"
   ]
  },
  {
   "cell_type": "code",
   "execution_count": 31,
   "metadata": {},
   "outputs": [
    {
     "name": "stdout",
     "output_type": "stream",
     "text": [
      "                                       Plots for Platform Type                                        \n"
     ]
    },
    {
     "data": {
      "image/png": "[encoded data removed]",
      "text/plain": [
       "<Figure size 864x360 with 2 Axes>"
      ]
     },
     "metadata": {
      "needs_background": "light"
     },
     "output_type": "display_data"
    },
    {
     "name": "stdout",
     "output_type": "stream",
     "text": [
      "--------------------------------------------------------------------------------------------------------------\n",
      "\n",
      "\n",
      "                                    Plots for Personal or Business                                    \n"
     ]
    },
    {
     "data": {
      "image/png": "[encoded data removed]",
      "text/plain": [
       "<Figure size 864x360 with 2 Axes>"
      ]
     },
     "metadata": {
      "needs_background": "light"
     },
     "output_type": "display_data"
    },
    {
     "name": "stdout",
     "output_type": "stream",
     "text": [
      "--------------------------------------------------------------------------------------------------------------\n",
      "\n",
      "\n",
      "                                       Plots for Distance (KM)                                        \n"
     ]
    },
    {
     "data": {
      "image/png": "[encoded data removed]",
      "text/plain": [
       "<Figure size 864x360 with 2 Axes>"
      ]
     },
     "metadata": {
      "needs_background": "light"
     },
     "output_type": "display_data"
    },
    {
     "name": "stdout",
     "output_type": "stream",
     "text": [
      "--------------------------------------------------------------------------------------------------------------\n",
      "\n",
      "\n"
     ]
    }
   ],
   "source": [
    "get_univariate_plots(data = train, target_col= 'Time from Pickup to Arrival',features_list=['Platform Type','Personal or Business',\n",
    "                                                                                            'Distance (KM)'])\n",
    "\n"
   ]
  },
  {
   "cell_type": "code",
   "execution_count": null,
   "metadata": {},
   "outputs": [],
   "source": []
  },
  {
   "cell_type": "markdown",
   "metadata": {},
   "source": [
    "### Correlation"
   ]
  },
  {
   "cell_type": "code",
   "execution_count": 32,
   "metadata": {},
   "outputs": [
    {
     "data": {
      "text/plain": [
       "<matplotlib.axes._subplots.AxesSubplot at 0x25eee6bce48>"
      ]
     },
     "execution_count": 32,
     "metadata": {},
     "output_type": "execute_result"
    },
    {
     "data": {
      "image/png": "[encoded data removed]",
      "text/plain": [
       "<Figure size 1224x576 with 2 Axes>"
      ]
     },
     "metadata": {
      "needs_background": "light"
     },
     "output_type": "display_data"
    }
   ],
   "source": [
    "plt.figure(figsize=(17,8))\n",
    "sns.heatmap(train.corr(), vmax=0.6, square=True, annot=True)"
   ]
  },
  {
   "cell_type": "code",
   "execution_count": null,
   "metadata": {},
   "outputs": [],
   "source": []
  },
  {
   "cell_type": "markdown",
   "metadata": {},
   "source": [
    "## Feature Extraction"
   ]
  },
  {
   "cell_type": "markdown",
   "metadata": {},
   "source": [
    "*  select the appropriate features to train our regression model"
   ]
  },
  {
   "cell_type": "markdown",
   "metadata": {},
   "source": [
    "### Analysis of the riders dataset"
   ]
  },
  {
   "cell_type": "code",
   "execution_count": 33,
   "metadata": {},
   "outputs": [
    {
     "data": {
      "text/html": [
       "<div>\n",
       "<style scoped>\n",
       "    .dataframe tbody tr th:only-of-type {\n",
       "        vertical-align: middle;\n",
       "    }\n",
       "\n",
       "    .dataframe tbody tr th {\n",
       "        vertical-align: top;\n",
       "    }\n",
       "\n",
       "    .dataframe thead th {\n",
       "        text-align: right;\n",
       "    }\n",
       "</style>\n",
       "<table border=\"1\" class=\"dataframe\">\n",
       "  <thead>\n",
       "    <tr style=\"text-align: right;\">\n",
       "      <th></th>\n",
       "      <th>Rider Id</th>\n",
       "      <th>No_Of_Orders</th>\n",
       "      <th>Age</th>\n",
       "      <th>Average_Rating</th>\n",
       "      <th>No_of_Ratings</th>\n",
       "    </tr>\n",
       "  </thead>\n",
       "  <tbody>\n",
       "    <tr>\n",
       "      <th>0</th>\n",
       "      <td>Rider_Id_396</td>\n",
       "      <td>2946</td>\n",
       "      <td>2298</td>\n",
       "      <td>14.0</td>\n",
       "      <td>1159</td>\n",
       "    </tr>\n",
       "    <tr>\n",
       "      <th>1</th>\n",
       "      <td>Rider_Id_479</td>\n",
       "      <td>360</td>\n",
       "      <td>951</td>\n",
       "      <td>13.5</td>\n",
       "      <td>176</td>\n",
       "    </tr>\n",
       "    <tr>\n",
       "      <th>2</th>\n",
       "      <td>Rider_Id_648</td>\n",
       "      <td>1746</td>\n",
       "      <td>821</td>\n",
       "      <td>14.3</td>\n",
       "      <td>466</td>\n",
       "    </tr>\n",
       "    <tr>\n",
       "      <th>3</th>\n",
       "      <td>Rider_Id_753</td>\n",
       "      <td>314</td>\n",
       "      <td>980</td>\n",
       "      <td>12.5</td>\n",
       "      <td>75</td>\n",
       "    </tr>\n",
       "    <tr>\n",
       "      <th>4</th>\n",
       "      <td>Rider_Id_335</td>\n",
       "      <td>536</td>\n",
       "      <td>1113</td>\n",
       "      <td>13.7</td>\n",
       "      <td>156</td>\n",
       "    </tr>\n",
       "  </tbody>\n",
       "</table>\n",
       "</div>"
      ],
      "text/plain": [
       "       Rider Id  No_Of_Orders   Age  Average_Rating  No_of_Ratings\n",
       "0  Rider_Id_396          2946  2298            14.0           1159\n",
       "1  Rider_Id_479           360   951            13.5            176\n",
       "2  Rider_Id_648          1746   821            14.3            466\n",
       "3  Rider_Id_753           314   980            12.5             75\n",
       "4  Rider_Id_335           536  1113            13.7            156"
      ]
     },
     "execution_count": 33,
     "metadata": {},
     "output_type": "execute_result"
    }
   ],
   "source": [
    "riders.head()"
   ]
  },
  {
   "cell_type": "markdown",
   "metadata": {},
   "source": [
    "* Drop the Age and No of rating COLUMNS"
   ]
  },
  {
   "cell_type": "code",
   "execution_count": 34,
   "metadata": {},
   "outputs": [],
   "source": [
    "riders.drop('No_of_Ratings',axis=1,inplace=True)"
   ]
  },
  {
   "cell_type": "code",
   "execution_count": 35,
   "metadata": {},
   "outputs": [],
   "source": [
    "riders.drop('Age',axis=1,inplace=True)"
   ]
  },
  {
   "cell_type": "markdown",
   "metadata": {},
   "source": [
    "#### Merge the rider df with the train data"
   ]
  },
  {
   "cell_type": "code",
   "execution_count": 36,
   "metadata": {},
   "outputs": [],
   "source": [
    "train = pd.merge(train, riders, how='left', left_on='Rider Id', right_on='Rider Id', left_index=True)\n",
    "test = pd.merge(test, riders, how='left', left_on='Rider Id', right_on='Rider Id', left_index=True)"
   ]
  },
  {
   "cell_type": "code",
   "execution_count": 37,
   "metadata": {},
   "outputs": [
    {
     "data": {
      "text/html": [
       "<div>\n",
       "<style scoped>\n",
       "    .dataframe tbody tr th:only-of-type {\n",
       "        vertical-align: middle;\n",
       "    }\n",
       "\n",
       "    .dataframe tbody tr th {\n",
       "        vertical-align: top;\n",
       "    }\n",
       "\n",
       "    .dataframe thead th {\n",
       "        text-align: right;\n",
       "    }\n",
       "</style>\n",
       "<table border=\"1\" class=\"dataframe\">\n",
       "  <thead>\n",
       "    <tr style=\"text-align: right;\">\n",
       "      <th></th>\n",
       "      <th>27</th>\n",
       "      <th>739</th>\n",
       "      <th>851</th>\n",
       "      <th>806</th>\n",
       "      <th>159</th>\n",
       "    </tr>\n",
       "  </thead>\n",
       "  <tbody>\n",
       "    <tr>\n",
       "      <th>Platform Type</th>\n",
       "      <td>3</td>\n",
       "      <td>3</td>\n",
       "      <td>3</td>\n",
       "      <td>3</td>\n",
       "      <td>1</td>\n",
       "    </tr>\n",
       "    <tr>\n",
       "      <th>Personal or Business</th>\n",
       "      <td>0</td>\n",
       "      <td>1</td>\n",
       "      <td>0</td>\n",
       "      <td>0</td>\n",
       "      <td>1</td>\n",
       "    </tr>\n",
       "    <tr>\n",
       "      <th>Placement - Day of Month</th>\n",
       "      <td>9</td>\n",
       "      <td>12</td>\n",
       "      <td>30</td>\n",
       "      <td>15</td>\n",
       "      <td>13</td>\n",
       "    </tr>\n",
       "    <tr>\n",
       "      <th>Placement - Weekday (Mo = 1)</th>\n",
       "      <td>5</td>\n",
       "      <td>5</td>\n",
       "      <td>2</td>\n",
       "      <td>5</td>\n",
       "      <td>1</td>\n",
       "    </tr>\n",
       "    <tr>\n",
       "      <th>Placement - Time</th>\n",
       "      <td>9:35:46 AM</td>\n",
       "      <td>11:16:16 AM</td>\n",
       "      <td>12:39:25 PM</td>\n",
       "      <td>9:25:34 AM</td>\n",
       "      <td>9:55:18 AM</td>\n",
       "    </tr>\n",
       "    <tr>\n",
       "      <th>Confirmation - Day of Month</th>\n",
       "      <td>9</td>\n",
       "      <td>12</td>\n",
       "      <td>30</td>\n",
       "      <td>15</td>\n",
       "      <td>13</td>\n",
       "    </tr>\n",
       "    <tr>\n",
       "      <th>Confirmation - Weekday (Mo = 1)</th>\n",
       "      <td>5</td>\n",
       "      <td>5</td>\n",
       "      <td>2</td>\n",
       "      <td>5</td>\n",
       "      <td>1</td>\n",
       "    </tr>\n",
       "    <tr>\n",
       "      <th>Confirmation - Time</th>\n",
       "      <td>9:40:10 AM</td>\n",
       "      <td>11:23:21 AM</td>\n",
       "      <td>12:42:44 PM</td>\n",
       "      <td>9:26:05 AM</td>\n",
       "      <td>9:56:18 AM</td>\n",
       "    </tr>\n",
       "    <tr>\n",
       "      <th>Arrival at Pickup - Day of Month</th>\n",
       "      <td>9</td>\n",
       "      <td>12</td>\n",
       "      <td>30</td>\n",
       "      <td>15</td>\n",
       "      <td>13</td>\n",
       "    </tr>\n",
       "    <tr>\n",
       "      <th>Arrival at Pickup - Weekday (Mo = 1)</th>\n",
       "      <td>5</td>\n",
       "      <td>5</td>\n",
       "      <td>2</td>\n",
       "      <td>5</td>\n",
       "      <td>1</td>\n",
       "    </tr>\n",
       "    <tr>\n",
       "      <th>Arrival at Pickup - Time</th>\n",
       "      <td>10:04:47 AM</td>\n",
       "      <td>11:40:22 AM</td>\n",
       "      <td>12:49:34 PM</td>\n",
       "      <td>9:37:56 AM</td>\n",
       "      <td>10:03:53 AM</td>\n",
       "    </tr>\n",
       "    <tr>\n",
       "      <th>Pickup - Day of Month</th>\n",
       "      <td>9</td>\n",
       "      <td>12</td>\n",
       "      <td>30</td>\n",
       "      <td>15</td>\n",
       "      <td>13</td>\n",
       "    </tr>\n",
       "    <tr>\n",
       "      <th>Pickup - Weekday (Mo = 1)</th>\n",
       "      <td>5</td>\n",
       "      <td>5</td>\n",
       "      <td>2</td>\n",
       "      <td>5</td>\n",
       "      <td>1</td>\n",
       "    </tr>\n",
       "    <tr>\n",
       "      <th>Pickup - Time</th>\n",
       "      <td>10:27:30 AM</td>\n",
       "      <td>11:44:09 AM</td>\n",
       "      <td>12:53:03 PM</td>\n",
       "      <td>9:43:06 AM</td>\n",
       "      <td>10:05:23 AM</td>\n",
       "    </tr>\n",
       "    <tr>\n",
       "      <th>Arrival at Destination - Day of Month</th>\n",
       "      <td>9</td>\n",
       "      <td>12</td>\n",
       "      <td>30</td>\n",
       "      <td>15</td>\n",
       "      <td>13</td>\n",
       "    </tr>\n",
       "    <tr>\n",
       "      <th>Arrival at Destination - Weekday (Mo = 1)</th>\n",
       "      <td>5</td>\n",
       "      <td>5</td>\n",
       "      <td>2</td>\n",
       "      <td>5</td>\n",
       "      <td>1</td>\n",
       "    </tr>\n",
       "    <tr>\n",
       "      <th>Arrival at Destination - Time</th>\n",
       "      <td>10:39:55 AM</td>\n",
       "      <td>12:17:22 PM</td>\n",
       "      <td>1:00:38 PM</td>\n",
       "      <td>10:05:27 AM</td>\n",
       "      <td>10:25:37 AM</td>\n",
       "    </tr>\n",
       "    <tr>\n",
       "      <th>Distance (KM)</th>\n",
       "      <td>4</td>\n",
       "      <td>16</td>\n",
       "      <td>3</td>\n",
       "      <td>9</td>\n",
       "      <td>9</td>\n",
       "    </tr>\n",
       "    <tr>\n",
       "      <th>Temperature</th>\n",
       "      <td>20.4</td>\n",
       "      <td>26.4</td>\n",
       "      <td>23.2589</td>\n",
       "      <td>19.2</td>\n",
       "      <td>15.4</td>\n",
       "    </tr>\n",
       "    <tr>\n",
       "      <th>Pickup Lat</th>\n",
       "      <td>-1.31775</td>\n",
       "      <td>-1.35145</td>\n",
       "      <td>-1.30828</td>\n",
       "      <td>-1.2813</td>\n",
       "      <td>-1.2666</td>\n",
       "    </tr>\n",
       "    <tr>\n",
       "      <th>Pickup Long</th>\n",
       "      <td>36.8304</td>\n",
       "      <td>36.8993</td>\n",
       "      <td>36.8434</td>\n",
       "      <td>36.8324</td>\n",
       "      <td>36.7921</td>\n",
       "    </tr>\n",
       "    <tr>\n",
       "      <th>Destination Lat</th>\n",
       "      <td>-1.30041</td>\n",
       "      <td>-1.295</td>\n",
       "      <td>-1.30092</td>\n",
       "      <td>-1.25715</td>\n",
       "      <td>-1.29504</td>\n",
       "    </tr>\n",
       "    <tr>\n",
       "      <th>Destination Long</th>\n",
       "      <td>36.8297</td>\n",
       "      <td>36.8144</td>\n",
       "      <td>36.8282</td>\n",
       "      <td>36.7951</td>\n",
       "      <td>36.8098</td>\n",
       "    </tr>\n",
       "    <tr>\n",
       "      <th>Rider Id</th>\n",
       "      <td>Rider_Id_432</td>\n",
       "      <td>Rider_Id_856</td>\n",
       "      <td>Rider_Id_155</td>\n",
       "      <td>Rider_Id_855</td>\n",
       "      <td>Rider_Id_770</td>\n",
       "    </tr>\n",
       "    <tr>\n",
       "      <th>Time from Pickup to Arrival</th>\n",
       "      <td>745</td>\n",
       "      <td>1993</td>\n",
       "      <td>455</td>\n",
       "      <td>1341</td>\n",
       "      <td>1214</td>\n",
       "    </tr>\n",
       "    <tr>\n",
       "      <th>No_Of_Orders</th>\n",
       "      <td>1637</td>\n",
       "      <td>396</td>\n",
       "      <td>1023</td>\n",
       "      <td>886</td>\n",
       "      <td>2311</td>\n",
       "    </tr>\n",
       "    <tr>\n",
       "      <th>Average_Rating</th>\n",
       "      <td>13.8</td>\n",
       "      <td>13.6</td>\n",
       "      <td>12.5</td>\n",
       "      <td>14.5</td>\n",
       "      <td>14.1</td>\n",
       "    </tr>\n",
       "  </tbody>\n",
       "</table>\n",
       "</div>"
      ],
      "text/plain": [
       "                                                    27            739  \\\n",
       "Platform Type                                         3             3   \n",
       "Personal or Business                                  0             1   \n",
       "Placement - Day of Month                              9            12   \n",
       "Placement - Weekday (Mo = 1)                          5             5   \n",
       "Placement - Time                             9:35:46 AM   11:16:16 AM   \n",
       "Confirmation - Day of Month                           9            12   \n",
       "Confirmation - Weekday (Mo = 1)                       5             5   \n",
       "Confirmation - Time                          9:40:10 AM   11:23:21 AM   \n",
       "Arrival at Pickup - Day of Month                      9            12   \n",
       "Arrival at Pickup - Weekday (Mo = 1)                  5             5   \n",
       "Arrival at Pickup - Time                    10:04:47 AM   11:40:22 AM   \n",
       "Pickup - Day of Month                                 9            12   \n",
       "Pickup - Weekday (Mo = 1)                             5             5   \n",
       "Pickup - Time                               10:27:30 AM   11:44:09 AM   \n",
       "Arrival at Destination - Day of Month                 9            12   \n",
       "Arrival at Destination - Weekday (Mo = 1)             5             5   \n",
       "Arrival at Destination - Time               10:39:55 AM   12:17:22 PM   \n",
       "Distance (KM)                                         4            16   \n",
       "Temperature                                        20.4          26.4   \n",
       "Pickup Lat                                     -1.31775      -1.35145   \n",
       "Pickup Long                                     36.8304       36.8993   \n",
       "Destination Lat                                -1.30041        -1.295   \n",
       "Destination Long                                36.8297       36.8144   \n",
       "Rider Id                                   Rider_Id_432  Rider_Id_856   \n",
       "Time from Pickup to Arrival                         745          1993   \n",
       "No_Of_Orders                                       1637           396   \n",
       "Average_Rating                                     13.8          13.6   \n",
       "\n",
       "                                                    851           806  \\\n",
       "Platform Type                                         3             3   \n",
       "Personal or Business                                  0             0   \n",
       "Placement - Day of Month                             30            15   \n",
       "Placement - Weekday (Mo = 1)                          2             5   \n",
       "Placement - Time                            12:39:25 PM    9:25:34 AM   \n",
       "Confirmation - Day of Month                          30            15   \n",
       "Confirmation - Weekday (Mo = 1)                       2             5   \n",
       "Confirmation - Time                         12:42:44 PM    9:26:05 AM   \n",
       "Arrival at Pickup - Day of Month                     30            15   \n",
       "Arrival at Pickup - Weekday (Mo = 1)                  2             5   \n",
       "Arrival at Pickup - Time                    12:49:34 PM    9:37:56 AM   \n",
       "Pickup - Day of Month                                30            15   \n",
       "Pickup - Weekday (Mo = 1)                             2             5   \n",
       "Pickup - Time                               12:53:03 PM    9:43:06 AM   \n",
       "Arrival at Destination - Day of Month                30            15   \n",
       "Arrival at Destination - Weekday (Mo = 1)             2             5   \n",
       "Arrival at Destination - Time                1:00:38 PM   10:05:27 AM   \n",
       "Distance (KM)                                         3             9   \n",
       "Temperature                                     23.2589          19.2   \n",
       "Pickup Lat                                     -1.30828       -1.2813   \n",
       "Pickup Long                                     36.8434       36.8324   \n",
       "Destination Lat                                -1.30092      -1.25715   \n",
       "Destination Long                                36.8282       36.7951   \n",
       "Rider Id                                   Rider_Id_155  Rider_Id_855   \n",
       "Time from Pickup to Arrival                         455          1341   \n",
       "No_Of_Orders                                       1023           886   \n",
       "Average_Rating                                     12.5          14.5   \n",
       "\n",
       "                                                    159  \n",
       "Platform Type                                         1  \n",
       "Personal or Business                                  1  \n",
       "Placement - Day of Month                             13  \n",
       "Placement - Weekday (Mo = 1)                          1  \n",
       "Placement - Time                             9:55:18 AM  \n",
       "Confirmation - Day of Month                          13  \n",
       "Confirmation - Weekday (Mo = 1)                       1  \n",
       "Confirmation - Time                          9:56:18 AM  \n",
       "Arrival at Pickup - Day of Month                     13  \n",
       "Arrival at Pickup - Weekday (Mo = 1)                  1  \n",
       "Arrival at Pickup - Time                    10:03:53 AM  \n",
       "Pickup - Day of Month                                13  \n",
       "Pickup - Weekday (Mo = 1)                             1  \n",
       "Pickup - Time                               10:05:23 AM  \n",
       "Arrival at Destination - Day of Month                13  \n",
       "Arrival at Destination - Weekday (Mo = 1)             1  \n",
       "Arrival at Destination - Time               10:25:37 AM  \n",
       "Distance (KM)                                         9  \n",
       "Temperature                                        15.4  \n",
       "Pickup Lat                                      -1.2666  \n",
       "Pickup Long                                     36.7921  \n",
       "Destination Lat                                -1.29504  \n",
       "Destination Long                                36.8098  \n",
       "Rider Id                                   Rider_Id_770  \n",
       "Time from Pickup to Arrival                        1214  \n",
       "No_Of_Orders                                       2311  \n",
       "Average_Rating                                     14.1  "
      ]
     },
     "execution_count": 37,
     "metadata": {},
     "output_type": "execute_result"
    }
   ],
   "source": [
    "train.head().T"
   ]
  },
  {
   "cell_type": "code",
   "execution_count": 38,
   "metadata": {},
   "outputs": [],
   "source": [
    "train.reset_index(drop=True, inplace=True)"
   ]
  },
  {
   "cell_type": "code",
   "execution_count": null,
   "metadata": {},
   "outputs": [],
   "source": []
  },
  {
   "cell_type": "markdown",
   "metadata": {},
   "source": [
    "* Dealing with the time columns, lets convert to 24 hour clock system"
   ]
  },
  {
   "cell_type": "code",
   "execution_count": 39,
   "metadata": {},
   "outputs": [],
   "source": [
    "time_data =[col for col in train.columns if col.endswith('Time')]"
   ]
  },
  {
   "cell_type": "code",
   "execution_count": 40,
   "metadata": {},
   "outputs": [],
   "source": [
    "time_ = train[time_data]"
   ]
  },
  {
   "cell_type": "code",
   "execution_count": 41,
   "metadata": {},
   "outputs": [],
   "source": [
    "import datetime as dt\n",
    "def convert_to_24hrs(time_):\n",
    "    for col in time_.columns:\n",
    "        if col.endswith(\"Time\"):\n",
    "            time_[col] = pd.to_datetime(time_[col], format='%I:%M:%S %p').dt.strftime(\"%H:%M:%S\")\n",
    "    return time_\n",
    "\n",
    "time_= convert_to_24hrs(time_)"
   ]
  },
  {
   "cell_type": "markdown",
   "metadata": {},
   "source": [
    "* Label encode the columns"
   ]
  },
  {
   "cell_type": "code",
   "execution_count": 42,
   "metadata": {},
   "outputs": [],
   "source": [
    "from sklearn.preprocessing import LabelEncoder\n",
    "le = LabelEncoder()"
   ]
  },
  {
   "cell_type": "code",
   "execution_count": 43,
   "metadata": {},
   "outputs": [
    {
     "data": {
      "text/html": [
       "<div>\n",
       "<style scoped>\n",
       "    .dataframe tbody tr th:only-of-type {\n",
       "        vertical-align: middle;\n",
       "    }\n",
       "\n",
       "    .dataframe tbody tr th {\n",
       "        vertical-align: top;\n",
       "    }\n",
       "\n",
       "    .dataframe thead th {\n",
       "        text-align: right;\n",
       "    }\n",
       "</style>\n",
       "<table border=\"1\" class=\"dataframe\">\n",
       "  <thead>\n",
       "    <tr style=\"text-align: right;\">\n",
       "      <th></th>\n",
       "      <th>Placement - Time</th>\n",
       "      <th>Confirmation - Time</th>\n",
       "      <th>Arrival at Pickup - Time</th>\n",
       "      <th>Pickup - Time</th>\n",
       "      <th>Arrival at Destination - Time</th>\n",
       "    </tr>\n",
       "  </thead>\n",
       "  <tbody>\n",
       "    <tr>\n",
       "      <th>0</th>\n",
       "      <td>09:35:46</td>\n",
       "      <td>09:40:10</td>\n",
       "      <td>10:04:47</td>\n",
       "      <td>10:27:30</td>\n",
       "      <td>10:39:55</td>\n",
       "    </tr>\n",
       "    <tr>\n",
       "      <th>1</th>\n",
       "      <td>11:16:16</td>\n",
       "      <td>11:23:21</td>\n",
       "      <td>11:40:22</td>\n",
       "      <td>11:44:09</td>\n",
       "      <td>12:17:22</td>\n",
       "    </tr>\n",
       "    <tr>\n",
       "      <th>2</th>\n",
       "      <td>12:39:25</td>\n",
       "      <td>12:42:44</td>\n",
       "      <td>12:49:34</td>\n",
       "      <td>12:53:03</td>\n",
       "      <td>13:00:38</td>\n",
       "    </tr>\n",
       "    <tr>\n",
       "      <th>3</th>\n",
       "      <td>09:25:34</td>\n",
       "      <td>09:26:05</td>\n",
       "      <td>09:37:56</td>\n",
       "      <td>09:43:06</td>\n",
       "      <td>10:05:27</td>\n",
       "    </tr>\n",
       "    <tr>\n",
       "      <th>4</th>\n",
       "      <td>09:55:18</td>\n",
       "      <td>09:56:18</td>\n",
       "      <td>10:03:53</td>\n",
       "      <td>10:05:23</td>\n",
       "      <td>10:25:37</td>\n",
       "    </tr>\n",
       "  </tbody>\n",
       "</table>\n",
       "</div>"
      ],
      "text/plain": [
       "  Placement - Time Confirmation - Time Arrival at Pickup - Time Pickup - Time  \\\n",
       "0         09:35:46            09:40:10                 10:04:47      10:27:30   \n",
       "1         11:16:16            11:23:21                 11:40:22      11:44:09   \n",
       "2         12:39:25            12:42:44                 12:49:34      12:53:03   \n",
       "3         09:25:34            09:26:05                 09:37:56      09:43:06   \n",
       "4         09:55:18            09:56:18                 10:03:53      10:05:23   \n",
       "\n",
       "  Arrival at Destination - Time  \n",
       "0                      10:39:55  \n",
       "1                      12:17:22  \n",
       "2                      13:00:38  \n",
       "3                      10:05:27  \n",
       "4                      10:25:37  "
      ]
     },
     "execution_count": 43,
     "metadata": {},
     "output_type": "execute_result"
    }
   ],
   "source": [
    "time_.head()"
   ]
  },
  {
   "cell_type": "code",
   "execution_count": null,
   "metadata": {},
   "outputs": [],
   "source": []
  },
  {
   "cell_type": "code",
   "execution_count": 44,
   "metadata": {},
   "outputs": [],
   "source": [
    "train.drop(time_,axis=1,inplace=True)"
   ]
  },
  {
   "cell_type": "markdown",
   "metadata": {},
   "source": [
    "* Convert the rider_id column to numerical"
   ]
  },
  {
   "cell_type": "code",
   "execution_count": 45,
   "metadata": {},
   "outputs": [],
   "source": [
    "train['Rider Id']= le.fit_transform(train['Rider Id']) "
   ]
  },
  {
   "cell_type": "code",
   "execution_count": 46,
   "metadata": {},
   "outputs": [
    {
     "data": {
      "text/plain": [
       "Platform Type                                  int64\n",
       "Personal or Business                           int64\n",
       "Placement - Day of Month                       int64\n",
       "Placement - Weekday (Mo = 1)                   int64\n",
       "Confirmation - Day of Month                    int64\n",
       "Confirmation - Weekday (Mo = 1)                int64\n",
       "Arrival at Pickup - Day of Month               int64\n",
       "Arrival at Pickup - Weekday (Mo = 1)           int64\n",
       "Pickup - Day of Month                          int64\n",
       "Pickup - Weekday (Mo = 1)                      int64\n",
       "Arrival at Destination - Day of Month          int64\n",
       "Arrival at Destination - Weekday (Mo = 1)      int64\n",
       "Distance (KM)                                  int64\n",
       "Temperature                                  float64\n",
       "Pickup Lat                                   float64\n",
       "Pickup Long                                  float64\n",
       "Destination Lat                              float64\n",
       "Destination Long                             float64\n",
       "Rider Id                                       int32\n",
       "Time from Pickup to Arrival                    int64\n",
       "No_Of_Orders                                   int64\n",
       "Average_Rating                               float64\n",
       "dtype: object"
      ]
     },
     "execution_count": 46,
     "metadata": {},
     "output_type": "execute_result"
    }
   ],
   "source": [
    "train.dtypes"
   ]
  },
  {
   "cell_type": "code",
   "execution_count": null,
   "metadata": {},
   "outputs": [],
   "source": []
  },
  {
   "cell_type": "markdown",
   "metadata": {},
   "source": [
    "#### Conclusion : Our training dataset is clean"
   ]
  },
  {
   "cell_type": "code",
   "execution_count": null,
   "metadata": {},
   "outputs": [],
   "source": []
  },
  {
   "cell_type": "markdown",
   "metadata": {},
   "source": [
    "### Analysis of the  Testing dataset"
   ]
  },
  {
   "cell_type": "code",
   "execution_count": null,
   "metadata": {},
   "outputs": [],
   "source": []
  },
  {
   "cell_type": "code",
   "execution_count": 48,
   "metadata": {},
   "outputs": [
    {
     "data": {
      "text/html": [
       "<div>\n",
       "<style scoped>\n",
       "    .dataframe tbody tr th:only-of-type {\n",
       "        vertical-align: middle;\n",
       "    }\n",
       "\n",
       "    .dataframe tbody tr th {\n",
       "        vertical-align: top;\n",
       "    }\n",
       "\n",
       "    .dataframe thead th {\n",
       "        text-align: right;\n",
       "    }\n",
       "</style>\n",
       "<table border=\"1\" class=\"dataframe\">\n",
       "  <thead>\n",
       "    <tr style=\"text-align: right;\">\n",
       "      <th></th>\n",
       "      <th>183</th>\n",
       "      <th>826</th>\n",
       "      <th>650</th>\n",
       "      <th>561</th>\n",
       "      <th>203</th>\n",
       "    </tr>\n",
       "  </thead>\n",
       "  <tbody>\n",
       "    <tr>\n",
       "      <th>Order No</th>\n",
       "      <td>Order_No_19248</td>\n",
       "      <td>Order_No_12736</td>\n",
       "      <td>Order_No_768</td>\n",
       "      <td>Order_No_15332</td>\n",
       "      <td>Order_No_21373</td>\n",
       "    </tr>\n",
       "    <tr>\n",
       "      <th>User Id</th>\n",
       "      <td>User_Id_3355</td>\n",
       "      <td>User_Id_3647</td>\n",
       "      <td>User_Id_2154</td>\n",
       "      <td>User_Id_2910</td>\n",
       "      <td>User_Id_1205</td>\n",
       "    </tr>\n",
       "    <tr>\n",
       "      <th>Vehicle Type</th>\n",
       "      <td>Bike</td>\n",
       "      <td>Bike</td>\n",
       "      <td>Bike</td>\n",
       "      <td>Bike</td>\n",
       "      <td>Bike</td>\n",
       "    </tr>\n",
       "    <tr>\n",
       "      <th>Platform Type</th>\n",
       "      <td>3</td>\n",
       "      <td>3</td>\n",
       "      <td>3</td>\n",
       "      <td>3</td>\n",
       "      <td>3</td>\n",
       "    </tr>\n",
       "    <tr>\n",
       "      <th>Personal or Business</th>\n",
       "      <td>Business</td>\n",
       "      <td>Business</td>\n",
       "      <td>Business</td>\n",
       "      <td>Business</td>\n",
       "      <td>Business</td>\n",
       "    </tr>\n",
       "    <tr>\n",
       "      <th>Placement - Day of Month</th>\n",
       "      <td>27</td>\n",
       "      <td>17</td>\n",
       "      <td>27</td>\n",
       "      <td>17</td>\n",
       "      <td>11</td>\n",
       "    </tr>\n",
       "    <tr>\n",
       "      <th>Placement - Weekday (Mo = 1)</th>\n",
       "      <td>3</td>\n",
       "      <td>5</td>\n",
       "      <td>4</td>\n",
       "      <td>1</td>\n",
       "      <td>2</td>\n",
       "    </tr>\n",
       "    <tr>\n",
       "      <th>Placement - Time</th>\n",
       "      <td>4:44:10 PM</td>\n",
       "      <td>12:57:35 PM</td>\n",
       "      <td>11:08:14 AM</td>\n",
       "      <td>1:51:35 PM</td>\n",
       "      <td>11:30:28 AM</td>\n",
       "    </tr>\n",
       "    <tr>\n",
       "      <th>Confirmation - Day of Month</th>\n",
       "      <td>27</td>\n",
       "      <td>17</td>\n",
       "      <td>27</td>\n",
       "      <td>17</td>\n",
       "      <td>11</td>\n",
       "    </tr>\n",
       "    <tr>\n",
       "      <th>Confirmation - Weekday (Mo = 1)</th>\n",
       "      <td>3</td>\n",
       "      <td>5</td>\n",
       "      <td>4</td>\n",
       "      <td>1</td>\n",
       "      <td>2</td>\n",
       "    </tr>\n",
       "    <tr>\n",
       "      <th>Confirmation - Time</th>\n",
       "      <td>4:44:29 PM</td>\n",
       "      <td>12:59:17 PM</td>\n",
       "      <td>11:25:05 AM</td>\n",
       "      <td>1:53:27 PM</td>\n",
       "      <td>11:34:45 AM</td>\n",
       "    </tr>\n",
       "    <tr>\n",
       "      <th>Arrival at Pickup - Day of Month</th>\n",
       "      <td>27</td>\n",
       "      <td>17</td>\n",
       "      <td>27</td>\n",
       "      <td>17</td>\n",
       "      <td>11</td>\n",
       "    </tr>\n",
       "    <tr>\n",
       "      <th>Arrival at Pickup - Weekday (Mo = 1)</th>\n",
       "      <td>3</td>\n",
       "      <td>5</td>\n",
       "      <td>4</td>\n",
       "      <td>1</td>\n",
       "      <td>2</td>\n",
       "    </tr>\n",
       "    <tr>\n",
       "      <th>Arrival at Pickup - Time</th>\n",
       "      <td>4:53:04 PM</td>\n",
       "      <td>1:20:27 PM</td>\n",
       "      <td>11:33:20 AM</td>\n",
       "      <td>2:02:41 PM</td>\n",
       "      <td>11:47:19 AM</td>\n",
       "    </tr>\n",
       "    <tr>\n",
       "      <th>Pickup - Day of Month</th>\n",
       "      <td>27</td>\n",
       "      <td>17</td>\n",
       "      <td>27</td>\n",
       "      <td>17</td>\n",
       "      <td>11</td>\n",
       "    </tr>\n",
       "    <tr>\n",
       "      <th>Pickup - Weekday (Mo = 1)</th>\n",
       "      <td>3</td>\n",
       "      <td>5</td>\n",
       "      <td>4</td>\n",
       "      <td>1</td>\n",
       "      <td>2</td>\n",
       "    </tr>\n",
       "    <tr>\n",
       "      <th>Pickup - Time</th>\n",
       "      <td>5:06:47 PM</td>\n",
       "      <td>1:25:37 PM</td>\n",
       "      <td>11:57:54 AM</td>\n",
       "      <td>2:16:52 PM</td>\n",
       "      <td>11:56:04 AM</td>\n",
       "    </tr>\n",
       "    <tr>\n",
       "      <th>Distance (KM)</th>\n",
       "      <td>8</td>\n",
       "      <td>5</td>\n",
       "      <td>5</td>\n",
       "      <td>5</td>\n",
       "      <td>6</td>\n",
       "    </tr>\n",
       "    <tr>\n",
       "      <th>Temperature</th>\n",
       "      <td>NaN</td>\n",
       "      <td>NaN</td>\n",
       "      <td>22.8</td>\n",
       "      <td>24.5</td>\n",
       "      <td>24.4</td>\n",
       "    </tr>\n",
       "    <tr>\n",
       "      <th>Precipitation in millimeters</th>\n",
       "      <td>NaN</td>\n",
       "      <td>NaN</td>\n",
       "      <td>NaN</td>\n",
       "      <td>NaN</td>\n",
       "      <td>NaN</td>\n",
       "    </tr>\n",
       "    <tr>\n",
       "      <th>Pickup Lat</th>\n",
       "      <td>-1.33327</td>\n",
       "      <td>-1.27264</td>\n",
       "      <td>-1.29089</td>\n",
       "      <td>-1.2905</td>\n",
       "      <td>-1.28108</td>\n",
       "    </tr>\n",
       "    <tr>\n",
       "      <th>Pickup Long</th>\n",
       "      <td>36.8708</td>\n",
       "      <td>36.7947</td>\n",
       "      <td>36.823</td>\n",
       "      <td>36.8096</td>\n",
       "      <td>36.8144</td>\n",
       "    </tr>\n",
       "    <tr>\n",
       "      <th>Destination Lat</th>\n",
       "      <td>-1.30525</td>\n",
       "      <td>-1.27701</td>\n",
       "      <td>-1.27657</td>\n",
       "      <td>-1.30338</td>\n",
       "      <td>-1.26647</td>\n",
       "    </tr>\n",
       "    <tr>\n",
       "      <th>Destination Long</th>\n",
       "      <td>36.8224</td>\n",
       "      <td>36.8239</td>\n",
       "      <td>36.8514</td>\n",
       "      <td>36.7907</td>\n",
       "      <td>36.7922</td>\n",
       "    </tr>\n",
       "    <tr>\n",
       "      <th>Rider Id</th>\n",
       "      <td>Rider_Id_192</td>\n",
       "      <td>Rider_Id_868</td>\n",
       "      <td>Rider_Id_26</td>\n",
       "      <td>Rider_Id_685</td>\n",
       "      <td>Rider_Id_858</td>\n",
       "    </tr>\n",
       "    <tr>\n",
       "      <th>No_Of_Orders</th>\n",
       "      <td>439</td>\n",
       "      <td>488</td>\n",
       "      <td>833</td>\n",
       "      <td>487</td>\n",
       "      <td>4761</td>\n",
       "    </tr>\n",
       "    <tr>\n",
       "      <th>Average_Rating</th>\n",
       "      <td>13.3</td>\n",
       "      <td>14.4</td>\n",
       "      <td>13.1</td>\n",
       "      <td>13.7</td>\n",
       "      <td>14.1</td>\n",
       "    </tr>\n",
       "  </tbody>\n",
       "</table>\n",
       "</div>"
      ],
      "text/plain": [
       "                                                 183             826  \\\n",
       "Order No                              Order_No_19248  Order_No_12736   \n",
       "User Id                                 User_Id_3355    User_Id_3647   \n",
       "Vehicle Type                                    Bike            Bike   \n",
       "Platform Type                                      3               3   \n",
       "Personal or Business                        Business        Business   \n",
       "Placement - Day of Month                          27              17   \n",
       "Placement - Weekday (Mo = 1)                       3               5   \n",
       "Placement - Time                          4:44:10 PM     12:57:35 PM   \n",
       "Confirmation - Day of Month                       27              17   \n",
       "Confirmation - Weekday (Mo = 1)                    3               5   \n",
       "Confirmation - Time                       4:44:29 PM     12:59:17 PM   \n",
       "Arrival at Pickup - Day of Month                  27              17   \n",
       "Arrival at Pickup - Weekday (Mo = 1)               3               5   \n",
       "Arrival at Pickup - Time                  4:53:04 PM      1:20:27 PM   \n",
       "Pickup - Day of Month                             27              17   \n",
       "Pickup - Weekday (Mo = 1)                          3               5   \n",
       "Pickup - Time                             5:06:47 PM      1:25:37 PM   \n",
       "Distance (KM)                                      8               5   \n",
       "Temperature                                      NaN             NaN   \n",
       "Precipitation in millimeters                     NaN             NaN   \n",
       "Pickup Lat                                  -1.33327        -1.27264   \n",
       "Pickup Long                                  36.8708         36.7947   \n",
       "Destination Lat                             -1.30525        -1.27701   \n",
       "Destination Long                             36.8224         36.8239   \n",
       "Rider Id                                Rider_Id_192    Rider_Id_868   \n",
       "No_Of_Orders                                     439             488   \n",
       "Average_Rating                                  13.3            14.4   \n",
       "\n",
       "                                               650             561  \\\n",
       "Order No                              Order_No_768  Order_No_15332   \n",
       "User Id                               User_Id_2154    User_Id_2910   \n",
       "Vehicle Type                                  Bike            Bike   \n",
       "Platform Type                                    3               3   \n",
       "Personal or Business                      Business        Business   \n",
       "Placement - Day of Month                        27              17   \n",
       "Placement - Weekday (Mo = 1)                     4               1   \n",
       "Placement - Time                       11:08:14 AM      1:51:35 PM   \n",
       "Confirmation - Day of Month                     27              17   \n",
       "Confirmation - Weekday (Mo = 1)                  4               1   \n",
       "Confirmation - Time                    11:25:05 AM      1:53:27 PM   \n",
       "Arrival at Pickup - Day of Month                27              17   \n",
       "Arrival at Pickup - Weekday (Mo = 1)             4               1   \n",
       "Arrival at Pickup - Time               11:33:20 AM      2:02:41 PM   \n",
       "Pickup - Day of Month                           27              17   \n",
       "Pickup - Weekday (Mo = 1)                        4               1   \n",
       "Pickup - Time                          11:57:54 AM      2:16:52 PM   \n",
       "Distance (KM)                                    5               5   \n",
       "Temperature                                   22.8            24.5   \n",
       "Precipitation in millimeters                   NaN             NaN   \n",
       "Pickup Lat                                -1.29089         -1.2905   \n",
       "Pickup Long                                 36.823         36.8096   \n",
       "Destination Lat                           -1.27657        -1.30338   \n",
       "Destination Long                           36.8514         36.7907   \n",
       "Rider Id                               Rider_Id_26    Rider_Id_685   \n",
       "No_Of_Orders                                   833             487   \n",
       "Average_Rating                                13.1            13.7   \n",
       "\n",
       "                                                 203  \n",
       "Order No                              Order_No_21373  \n",
       "User Id                                 User_Id_1205  \n",
       "Vehicle Type                                    Bike  \n",
       "Platform Type                                      3  \n",
       "Personal or Business                        Business  \n",
       "Placement - Day of Month                          11  \n",
       "Placement - Weekday (Mo = 1)                       2  \n",
       "Placement - Time                         11:30:28 AM  \n",
       "Confirmation - Day of Month                       11  \n",
       "Confirmation - Weekday (Mo = 1)                    2  \n",
       "Confirmation - Time                      11:34:45 AM  \n",
       "Arrival at Pickup - Day of Month                  11  \n",
       "Arrival at Pickup - Weekday (Mo = 1)               2  \n",
       "Arrival at Pickup - Time                 11:47:19 AM  \n",
       "Pickup - Day of Month                             11  \n",
       "Pickup - Weekday (Mo = 1)                          2  \n",
       "Pickup - Time                            11:56:04 AM  \n",
       "Distance (KM)                                      6  \n",
       "Temperature                                     24.4  \n",
       "Precipitation in millimeters                     NaN  \n",
       "Pickup Lat                                  -1.28108  \n",
       "Pickup Long                                  36.8144  \n",
       "Destination Lat                             -1.26647  \n",
       "Destination Long                             36.7922  \n",
       "Rider Id                                Rider_Id_858  \n",
       "No_Of_Orders                                    4761  \n",
       "Average_Rating                                  14.1  "
      ]
     },
     "execution_count": 48,
     "metadata": {},
     "output_type": "execute_result"
    }
   ],
   "source": [
    "test.head().T"
   ]
  },
  {
   "cell_type": "code",
   "execution_count": 54,
   "metadata": {},
   "outputs": [
    {
     "data": {
      "text/plain": [
       "(7068, 23)"
      ]
     },
     "execution_count": 54,
     "metadata": {},
     "output_type": "execute_result"
    }
   ],
   "source": [
    "test.shape "
   ]
  },
  {
   "cell_type": "markdown",
   "metadata": {},
   "source": [
    "* Cleaning the dataset"
   ]
  },
  {
   "cell_type": "code",
   "execution_count": 55,
   "metadata": {},
   "outputs": [],
   "source": [
    "p_b = {'Personal':1,'Business':0}\n",
    "test['Personal or Business'] = test['Personal or Business'].map(p_b)"
   ]
  },
  {
   "cell_type": "code",
   "execution_count": 57,
   "metadata": {},
   "outputs": [],
   "source": [
    "test.drop(['Order No','User Id','Vehicle Type','Precipitation in millimeters'],axis=1,inplace=True)"
   ]
  },
  {
   "cell_type": "code",
   "execution_count": 58,
   "metadata": {},
   "outputs": [],
   "source": [
    "test['Temperature'].fillna(test['Temperature'].mean(),inplace=True)"
   ]
  },
  {
   "cell_type": "code",
   "execution_count": 59,
   "metadata": {},
   "outputs": [],
   "source": [
    "test.reset_index(drop=True, inplace=True)"
   ]
  },
  {
   "cell_type": "code",
   "execution_count": 60,
   "metadata": {},
   "outputs": [],
   "source": [
    "\n",
    "def convert_to_24hrs(test):\n",
    "    for col in test.columns:\n",
    "        if col.endswith(\"Time\"):\n",
    "            test[col] = pd.to_datetime(test[col], format='%I:%M:%S %p').dt.strftime(\"%H:%M:%S\")\n",
    "    return test\n",
    "\n",
    "test= convert_to_24hrs(test)"
   ]
  },
  {
   "cell_type": "code",
   "execution_count": 61,
   "metadata": {},
   "outputs": [],
   "source": [
    "time_d=[col for col in test.columns if col.endswith('Time')]"
   ]
  },
  {
   "cell_type": "code",
   "execution_count": 62,
   "metadata": {},
   "outputs": [],
   "source": [
    "test.drop(test[time_d],inplace=True,axis=1)"
   ]
  },
  {
   "cell_type": "code",
   "execution_count": 63,
   "metadata": {},
   "outputs": [],
   "source": [
    "test['Rider Id']= le.fit_transform(test['Rider Id']) "
   ]
  },
  {
   "cell_type": "code",
   "execution_count": 64,
   "metadata": {},
   "outputs": [
    {
     "data": {
      "text/plain": [
       "Index(['Platform Type', 'Personal or Business', 'Placement - Day of Month',\n",
       "       'Placement - Weekday (Mo = 1)', 'Confirmation - Day of Month',\n",
       "       'Confirmation - Weekday (Mo = 1)', 'Arrival at Pickup - Day of Month',\n",
       "       'Arrival at Pickup - Weekday (Mo = 1)', 'Pickup - Day of Month',\n",
       "       'Pickup - Weekday (Mo = 1)', 'Arrival at Destination - Day of Month',\n",
       "       'Arrival at Destination - Weekday (Mo = 1)', 'Distance (KM)',\n",
       "       'Temperature', 'Pickup Lat', 'Pickup Long', 'Destination Lat',\n",
       "       'Destination Long', 'Rider Id', 'Time from Pickup to Arrival',\n",
       "       'No_Of_Orders', 'Average_Rating'],\n",
       "      dtype='object')"
      ]
     },
     "execution_count": 64,
     "metadata": {},
     "output_type": "execute_result"
    }
   ],
   "source": [
    "train.columns"
   ]
  },
  {
   "cell_type": "code",
   "execution_count": null,
   "metadata": {},
   "outputs": [],
   "source": []
  },
  {
   "cell_type": "markdown",
   "metadata": {},
   "source": [
    "## Machine Learning Models - Training\n"
   ]
  },
  {
   "cell_type": "markdown",
   "metadata": {},
   "source": [
    "### Feature Scaling"
   ]
  },
  {
   "cell_type": "code",
   "execution_count": 65,
   "metadata": {
    "scrolled": true
   },
   "outputs": [
    {
     "data": {
      "text/plain": [
       "Index(['Platform Type', 'Personal or Business', 'Placement - Day of Month',\n",
       "       'Placement - Weekday (Mo = 1)', 'Confirmation - Day of Month',\n",
       "       'Confirmation - Weekday (Mo = 1)', 'Arrival at Pickup - Day of Month',\n",
       "       'Arrival at Pickup - Weekday (Mo = 1)', 'Pickup - Day of Month',\n",
       "       'Pickup - Weekday (Mo = 1)', 'Arrival at Destination - Day of Month',\n",
       "       'Arrival at Destination - Weekday (Mo = 1)', 'Distance (KM)',\n",
       "       'Temperature', 'Pickup Lat', 'Pickup Long', 'Destination Lat',\n",
       "       'Destination Long', 'Rider Id', 'Time from Pickup to Arrival',\n",
       "       'No_Of_Orders', 'Average_Rating'],\n",
       "      dtype='object')"
      ]
     },
     "execution_count": 65,
     "metadata": {},
     "output_type": "execute_result"
    }
   ],
   "source": [
    "train.columns"
   ]
  },
  {
   "cell_type": "markdown",
   "metadata": {},
   "source": [
    "* Arrange the columns, the y-variable is at the end"
   ]
  },
  {
   "cell_type": "code",
   "execution_count": 66,
   "metadata": {},
   "outputs": [],
   "source": [
    "train = train.reindex(columns=['Platform Type', 'Personal or Business', 'Placement - Day of Month',\n",
    "       'Placement - Weekday (Mo = 1)', 'Confirmation - Day of Month',\n",
    "       'Confirmation - Weekday (Mo = 1)', 'Arrival at Pickup - Day of Month',\n",
    "       'Arrival at Pickup - Weekday (Mo = 1)', 'Pickup - Day of Month',\n",
    "       'Pickup - Weekday (Mo = 1)', 'Arrival at Destination - Day of Month',\n",
    "       'Arrival at Destination - Weekday (Mo = 1)', 'Distance (KM)',\n",
    "       'Temperature', 'Pickup Lat', 'Pickup Long', 'Destination Lat',\n",
    "       'Destination Long', 'Rider Id','No_Of_Orders', 'Average_Rating','Time from Pickup to Arrival'])\n"
   ]
  },
  {
   "cell_type": "code",
   "execution_count": 67,
   "metadata": {},
   "outputs": [
    {
     "data": {
      "text/html": [
       "<div>\n",
       "<style scoped>\n",
       "    .dataframe tbody tr th:only-of-type {\n",
       "        vertical-align: middle;\n",
       "    }\n",
       "\n",
       "    .dataframe tbody tr th {\n",
       "        vertical-align: top;\n",
       "    }\n",
       "\n",
       "    .dataframe thead th {\n",
       "        text-align: right;\n",
       "    }\n",
       "</style>\n",
       "<table border=\"1\" class=\"dataframe\">\n",
       "  <thead>\n",
       "    <tr style=\"text-align: right;\">\n",
       "      <th></th>\n",
       "      <th>0</th>\n",
       "      <th>1</th>\n",
       "      <th>2</th>\n",
       "      <th>3</th>\n",
       "      <th>4</th>\n",
       "    </tr>\n",
       "  </thead>\n",
       "  <tbody>\n",
       "    <tr>\n",
       "      <th>Platform Type</th>\n",
       "      <td>3.000000</td>\n",
       "      <td>3.000000</td>\n",
       "      <td>3.000000</td>\n",
       "      <td>3.000000</td>\n",
       "      <td>1.000000</td>\n",
       "    </tr>\n",
       "    <tr>\n",
       "      <th>Personal or Business</th>\n",
       "      <td>0.000000</td>\n",
       "      <td>1.000000</td>\n",
       "      <td>0.000000</td>\n",
       "      <td>0.000000</td>\n",
       "      <td>1.000000</td>\n",
       "    </tr>\n",
       "    <tr>\n",
       "      <th>Placement - Day of Month</th>\n",
       "      <td>9.000000</td>\n",
       "      <td>12.000000</td>\n",
       "      <td>30.000000</td>\n",
       "      <td>15.000000</td>\n",
       "      <td>13.000000</td>\n",
       "    </tr>\n",
       "    <tr>\n",
       "      <th>Placement - Weekday (Mo = 1)</th>\n",
       "      <td>5.000000</td>\n",
       "      <td>5.000000</td>\n",
       "      <td>2.000000</td>\n",
       "      <td>5.000000</td>\n",
       "      <td>1.000000</td>\n",
       "    </tr>\n",
       "    <tr>\n",
       "      <th>Confirmation - Day of Month</th>\n",
       "      <td>9.000000</td>\n",
       "      <td>12.000000</td>\n",
       "      <td>30.000000</td>\n",
       "      <td>15.000000</td>\n",
       "      <td>13.000000</td>\n",
       "    </tr>\n",
       "    <tr>\n",
       "      <th>Confirmation - Weekday (Mo = 1)</th>\n",
       "      <td>5.000000</td>\n",
       "      <td>5.000000</td>\n",
       "      <td>2.000000</td>\n",
       "      <td>5.000000</td>\n",
       "      <td>1.000000</td>\n",
       "    </tr>\n",
       "    <tr>\n",
       "      <th>Arrival at Pickup - Day of Month</th>\n",
       "      <td>9.000000</td>\n",
       "      <td>12.000000</td>\n",
       "      <td>30.000000</td>\n",
       "      <td>15.000000</td>\n",
       "      <td>13.000000</td>\n",
       "    </tr>\n",
       "    <tr>\n",
       "      <th>Arrival at Pickup - Weekday (Mo = 1)</th>\n",
       "      <td>5.000000</td>\n",
       "      <td>5.000000</td>\n",
       "      <td>2.000000</td>\n",
       "      <td>5.000000</td>\n",
       "      <td>1.000000</td>\n",
       "    </tr>\n",
       "    <tr>\n",
       "      <th>Pickup - Day of Month</th>\n",
       "      <td>9.000000</td>\n",
       "      <td>12.000000</td>\n",
       "      <td>30.000000</td>\n",
       "      <td>15.000000</td>\n",
       "      <td>13.000000</td>\n",
       "    </tr>\n",
       "    <tr>\n",
       "      <th>Pickup - Weekday (Mo = 1)</th>\n",
       "      <td>5.000000</td>\n",
       "      <td>5.000000</td>\n",
       "      <td>2.000000</td>\n",
       "      <td>5.000000</td>\n",
       "      <td>1.000000</td>\n",
       "    </tr>\n",
       "    <tr>\n",
       "      <th>Arrival at Destination - Day of Month</th>\n",
       "      <td>9.000000</td>\n",
       "      <td>12.000000</td>\n",
       "      <td>30.000000</td>\n",
       "      <td>15.000000</td>\n",
       "      <td>13.000000</td>\n",
       "    </tr>\n",
       "    <tr>\n",
       "      <th>Arrival at Destination - Weekday (Mo = 1)</th>\n",
       "      <td>5.000000</td>\n",
       "      <td>5.000000</td>\n",
       "      <td>2.000000</td>\n",
       "      <td>5.000000</td>\n",
       "      <td>1.000000</td>\n",
       "    </tr>\n",
       "    <tr>\n",
       "      <th>Distance (KM)</th>\n",
       "      <td>4.000000</td>\n",
       "      <td>16.000000</td>\n",
       "      <td>3.000000</td>\n",
       "      <td>9.000000</td>\n",
       "      <td>9.000000</td>\n",
       "    </tr>\n",
       "    <tr>\n",
       "      <th>Temperature</th>\n",
       "      <td>20.400000</td>\n",
       "      <td>26.400000</td>\n",
       "      <td>23.258889</td>\n",
       "      <td>19.200000</td>\n",
       "      <td>15.400000</td>\n",
       "    </tr>\n",
       "    <tr>\n",
       "      <th>Pickup Lat</th>\n",
       "      <td>-1.317755</td>\n",
       "      <td>-1.351453</td>\n",
       "      <td>-1.308284</td>\n",
       "      <td>-1.281301</td>\n",
       "      <td>-1.266597</td>\n",
       "    </tr>\n",
       "    <tr>\n",
       "      <th>Pickup Long</th>\n",
       "      <td>36.830370</td>\n",
       "      <td>36.899315</td>\n",
       "      <td>36.843419</td>\n",
       "      <td>36.832396</td>\n",
       "      <td>36.792118</td>\n",
       "    </tr>\n",
       "    <tr>\n",
       "      <th>Destination Lat</th>\n",
       "      <td>-1.300406</td>\n",
       "      <td>-1.295004</td>\n",
       "      <td>-1.300921</td>\n",
       "      <td>-1.257147</td>\n",
       "      <td>-1.295041</td>\n",
       "    </tr>\n",
       "    <tr>\n",
       "      <th>Destination Long</th>\n",
       "      <td>36.829741</td>\n",
       "      <td>36.814358</td>\n",
       "      <td>36.828195</td>\n",
       "      <td>36.795063</td>\n",
       "      <td>36.809817</td>\n",
       "    </tr>\n",
       "    <tr>\n",
       "      <th>Rider Id</th>\n",
       "      <td>362.000000</td>\n",
       "      <td>812.000000</td>\n",
       "      <td>61.000000</td>\n",
       "      <td>811.000000</td>\n",
       "      <td>720.000000</td>\n",
       "    </tr>\n",
       "    <tr>\n",
       "      <th>No_Of_Orders</th>\n",
       "      <td>1637.000000</td>\n",
       "      <td>396.000000</td>\n",
       "      <td>1023.000000</td>\n",
       "      <td>886.000000</td>\n",
       "      <td>2311.000000</td>\n",
       "    </tr>\n",
       "    <tr>\n",
       "      <th>Average_Rating</th>\n",
       "      <td>13.800000</td>\n",
       "      <td>13.600000</td>\n",
       "      <td>12.500000</td>\n",
       "      <td>14.500000</td>\n",
       "      <td>14.100000</td>\n",
       "    </tr>\n",
       "    <tr>\n",
       "      <th>Time from Pickup to Arrival</th>\n",
       "      <td>745.000000</td>\n",
       "      <td>1993.000000</td>\n",
       "      <td>455.000000</td>\n",
       "      <td>1341.000000</td>\n",
       "      <td>1214.000000</td>\n",
       "    </tr>\n",
       "  </tbody>\n",
       "</table>\n",
       "</div>"
      ],
      "text/plain": [
       "                                                     0            1  \\\n",
       "Platform Type                                 3.000000     3.000000   \n",
       "Personal or Business                          0.000000     1.000000   \n",
       "Placement - Day of Month                      9.000000    12.000000   \n",
       "Placement - Weekday (Mo = 1)                  5.000000     5.000000   \n",
       "Confirmation - Day of Month                   9.000000    12.000000   \n",
       "Confirmation - Weekday (Mo = 1)               5.000000     5.000000   \n",
       "Arrival at Pickup - Day of Month              9.000000    12.000000   \n",
       "Arrival at Pickup - Weekday (Mo = 1)          5.000000     5.000000   \n",
       "Pickup - Day of Month                         9.000000    12.000000   \n",
       "Pickup - Weekday (Mo = 1)                     5.000000     5.000000   \n",
       "Arrival at Destination - Day of Month         9.000000    12.000000   \n",
       "Arrival at Destination - Weekday (Mo = 1)     5.000000     5.000000   \n",
       "Distance (KM)                                 4.000000    16.000000   \n",
       "Temperature                                  20.400000    26.400000   \n",
       "Pickup Lat                                   -1.317755    -1.351453   \n",
       "Pickup Long                                  36.830370    36.899315   \n",
       "Destination Lat                              -1.300406    -1.295004   \n",
       "Destination Long                             36.829741    36.814358   \n",
       "Rider Id                                    362.000000   812.000000   \n",
       "No_Of_Orders                               1637.000000   396.000000   \n",
       "Average_Rating                               13.800000    13.600000   \n",
       "Time from Pickup to Arrival                 745.000000  1993.000000   \n",
       "\n",
       "                                                     2            3  \\\n",
       "Platform Type                                 3.000000     3.000000   \n",
       "Personal or Business                          0.000000     0.000000   \n",
       "Placement - Day of Month                     30.000000    15.000000   \n",
       "Placement - Weekday (Mo = 1)                  2.000000     5.000000   \n",
       "Confirmation - Day of Month                  30.000000    15.000000   \n",
       "Confirmation - Weekday (Mo = 1)               2.000000     5.000000   \n",
       "Arrival at Pickup - Day of Month             30.000000    15.000000   \n",
       "Arrival at Pickup - Weekday (Mo = 1)          2.000000     5.000000   \n",
       "Pickup - Day of Month                        30.000000    15.000000   \n",
       "Pickup - Weekday (Mo = 1)                     2.000000     5.000000   \n",
       "Arrival at Destination - Day of Month        30.000000    15.000000   \n",
       "Arrival at Destination - Weekday (Mo = 1)     2.000000     5.000000   \n",
       "Distance (KM)                                 3.000000     9.000000   \n",
       "Temperature                                  23.258889    19.200000   \n",
       "Pickup Lat                                   -1.308284    -1.281301   \n",
       "Pickup Long                                  36.843419    36.832396   \n",
       "Destination Lat                              -1.300921    -1.257147   \n",
       "Destination Long                             36.828195    36.795063   \n",
       "Rider Id                                     61.000000   811.000000   \n",
       "No_Of_Orders                               1023.000000   886.000000   \n",
       "Average_Rating                               12.500000    14.500000   \n",
       "Time from Pickup to Arrival                 455.000000  1341.000000   \n",
       "\n",
       "                                                     4  \n",
       "Platform Type                                 1.000000  \n",
       "Personal or Business                          1.000000  \n",
       "Placement - Day of Month                     13.000000  \n",
       "Placement - Weekday (Mo = 1)                  1.000000  \n",
       "Confirmation - Day of Month                  13.000000  \n",
       "Confirmation - Weekday (Mo = 1)               1.000000  \n",
       "Arrival at Pickup - Day of Month             13.000000  \n",
       "Arrival at Pickup - Weekday (Mo = 1)          1.000000  \n",
       "Pickup - Day of Month                        13.000000  \n",
       "Pickup - Weekday (Mo = 1)                     1.000000  \n",
       "Arrival at Destination - Day of Month        13.000000  \n",
       "Arrival at Destination - Weekday (Mo = 1)     1.000000  \n",
       "Distance (KM)                                 9.000000  \n",
       "Temperature                                  15.400000  \n",
       "Pickup Lat                                   -1.266597  \n",
       "Pickup Long                                  36.792118  \n",
       "Destination Lat                              -1.295041  \n",
       "Destination Long                             36.809817  \n",
       "Rider Id                                    720.000000  \n",
       "No_Of_Orders                               2311.000000  \n",
       "Average_Rating                               14.100000  \n",
       "Time from Pickup to Arrival                1214.000000  "
      ]
     },
     "execution_count": 67,
     "metadata": {},
     "output_type": "execute_result"
    }
   ],
   "source": [
    "train.head().T"
   ]
  },
  {
   "cell_type": "code",
   "execution_count": null,
   "metadata": {},
   "outputs": [],
   "source": []
  },
  {
   "cell_type": "markdown",
   "metadata": {},
   "source": [
    "## Feature Selection"
   ]
  },
  {
   "cell_type": "code",
   "execution_count": 68,
   "metadata": {},
   "outputs": [],
   "source": [
    "X = train.iloc[:,0:-2]"
   ]
  },
  {
   "cell_type": "code",
   "execution_count": 69,
   "metadata": {},
   "outputs": [
    {
     "data": {
      "text/plain": [
       "(21201, 20)"
      ]
     },
     "execution_count": 69,
     "metadata": {},
     "output_type": "execute_result"
    }
   ],
   "source": [
    "X.shape"
   ]
  },
  {
   "cell_type": "code",
   "execution_count": 70,
   "metadata": {},
   "outputs": [],
   "source": [
    "y = train.iloc[:,-1]"
   ]
  },
  {
   "cell_type": "code",
   "execution_count": 71,
   "metadata": {},
   "outputs": [
    {
     "data": {
      "text/plain": [
       "(21201,)"
      ]
     },
     "execution_count": 71,
     "metadata": {},
     "output_type": "execute_result"
    }
   ],
   "source": [
    "y.shape"
   ]
  },
  {
   "cell_type": "markdown",
   "metadata": {},
   "source": [
    "### Split the data for training"
   ]
  },
  {
   "cell_type": "code",
   "execution_count": 72,
   "metadata": {},
   "outputs": [],
   "source": [
    "X_train,X_test,y_train,y_test = train_test_split(X,y,test_size=0.2)"
   ]
  },
  {
   "cell_type": "code",
   "execution_count": null,
   "metadata": {},
   "outputs": [],
   "source": []
  },
  {
   "cell_type": "markdown",
   "metadata": {},
   "source": [
    "### K Nearest Neighbors"
   ]
  },
  {
   "cell_type": "code",
   "execution_count": 70,
   "metadata": {},
   "outputs": [
    {
     "name": "stdout",
     "output_type": "stream",
     "text": [
      "Knn root mean squared error:927.906653258315 \n",
      "Time consumed for training: 0.175 seconds\n",
      "Time consumed for prediction: 0.08469 seconds\n"
     ]
    }
   ],
   "source": [
    "knn = KNeighborsRegressor()\n",
    "\n",
    "training_start = time.perf_counter()\n",
    "knn.fit(X_train, y_train)\n",
    "training_end = time.perf_counter()\n",
    "\n",
    "prediction_start = time.perf_counter()\n",
    "y_pred = knn.predict(X_test)\n",
    "prediction_end = time.perf_counter()\n",
    "\n",
    "mse = mean_squared_error(y_test,y_pred)\n",
    "knn_train_time = training_end-training_start\n",
    "knn_prediction_time = prediction_end-prediction_start\n",
    "\n",
    "print(\"Knn root mean squared error:{} \".format(mse**0.5))\n",
    "print(\"Time consumed for training: %4.3f seconds\" % (knn_train_time))\n",
    "print(\"Time consumed for prediction: %6.5f seconds\" % (knn_prediction_time))"
   ]
  },
  {
   "cell_type": "markdown",
   "metadata": {},
   "source": [
    "### Results:\n",
    "        * the KNN model performed poorly,the rmse is too high"
   ]
  },
  {
   "cell_type": "code",
   "execution_count": null,
   "metadata": {},
   "outputs": [],
   "source": []
  },
  {
   "cell_type": "markdown",
   "metadata": {},
   "source": [
    "### Random Forest Regressor"
   ]
  },
  {
   "cell_type": "code",
   "execution_count": 71,
   "metadata": {},
   "outputs": [
    {
     "name": "stdout",
     "output_type": "stream",
     "text": [
      "Random forest Mean squared error: 839.0856983604219\n",
      "Time consumed for training: 3.390 seconds\n",
      "Time consumed for prediction: 0.02289 seconds\n"
     ]
    }
   ],
   "source": [
    "rfr = RandomForestRegressor(n_estimators=10)\n",
    "\n",
    "training_start = time.perf_counter()\n",
    "rfr.fit(X_train, y_train)\n",
    "training_end = time.perf_counter()\n",
    "\n",
    "prediction_start = time.perf_counter()\n",
    "preds = rfr.predict(X_test)\n",
    "prediction_end = time.perf_counter()\n",
    "\n",
    "mse = mean_squared_error(y_test,preds)\n",
    "train_time = training_end-training_start\n",
    "prediction_time = prediction_end-prediction_start\n",
    "\n",
    "print(\"Random forest Mean squared error: {}\".format(mse**0.5))\n",
    "print(\"Time consumed for training: %4.3f seconds\" % (train_time))\n",
    "print(\"Time consumed for prediction: %6.5f seconds\" % (prediction_time))"
   ]
  },
  {
   "cell_type": "code",
   "execution_count": null,
   "metadata": {},
   "outputs": [],
   "source": []
  },
  {
   "cell_type": "markdown",
   "metadata": {},
   "source": [
    "### Result:'\n",
    "    * Random Forest performed better thn Knn but the Mean squared error is still too high"
   ]
  },
  {
   "cell_type": "markdown",
   "metadata": {},
   "source": [
    "### Support Vector Regressor"
   ]
  },
  {
   "cell_type": "code",
   "execution_count": 72,
   "metadata": {},
   "outputs": [
    {
     "name": "stdout",
     "output_type": "stream",
     "text": [
      "Mean squared error:1031.246248938359 \n",
      "Time consumed for training: 43.582 seconds\n",
      "Time consumed for prediction: 8.77024 seconds\n"
     ]
    }
   ],
   "source": [
    "svr = SVR()\n",
    "\n",
    "training_start = time.perf_counter()\n",
    "svr.fit(X_train, y_train)\n",
    "training_end = time.perf_counter()\n",
    "\n",
    "prediction_start = time.perf_counter()\n",
    "preds = svr.predict(X_test)\n",
    "prediction_end = time.perf_counter()\n",
    "mse = mean_squared_error (y_test,preds)\n",
    "\n",
    "train_time = training_end-training_start\n",
    "prediction_time = prediction_end-prediction_start\n",
    "print(\"Mean squared error:{} \".format(mse**0.5))\n",
    "print(\"Time consumed for training: %4.3f seconds\" % (train_time))\n",
    "print(\"Time consumed for prediction: %6.5f seconds\" % (prediction_time))"
   ]
  },
  {
   "cell_type": "markdown",
   "metadata": {},
   "source": [
    "### Result :\n",
    "    * Performed worse than both KNN and Random Forest"
   ]
  },
  {
   "cell_type": "markdown",
   "metadata": {},
   "source": [
    "## Linear regression"
   ]
  },
  {
   "cell_type": "code",
   "execution_count": 76,
   "metadata": {},
   "outputs": [
    {
     "name": "stdout",
     "output_type": "stream",
     "text": [
      "Mean squared error:823.3083267165425 \n",
      "Time consumed for training: 1.396 seconds\n",
      "Time consumed for prediction: 0.01095 seconds\n"
     ]
    }
   ],
   "source": [
    "from sklearn.linear_model import LinearRegression\n",
    "lreg = LinearRegression()\n",
    "\n",
    "training_start = time.perf_counter()\n",
    "lreg.fit(X_train, y_train)\n",
    "training_end = time.perf_counter()\n",
    "\n",
    "prediction_start = time.perf_counter()\n",
    "preds = lreg.predict(X_test)\n",
    "prediction_end = time.perf_counter()\n",
    "mse = mean_squared_error (y_test,preds)\n",
    "\n",
    "train_time = training_end-training_start\n",
    "prediction_time = prediction_end-prediction_start\n",
    "print(\"Mean squared error:{} \".format(mse**0.5))\n",
    "print(\"Time consumed for training: %4.3f seconds\" % (train_time))\n",
    "print(\"Time consumed for prediction: %6.5f seconds\" % (prediction_time))"
   ]
  },
  {
   "cell_type": "code",
   "execution_count": null,
   "metadata": {},
   "outputs": [],
   "source": []
  },
  {
   "cell_type": "markdown",
   "metadata": {},
   "source": [
    "## XGBOOST"
   ]
  },
  {
   "cell_type": "code",
   "execution_count": 80,
   "metadata": {},
   "outputs": [
    {
     "name": "stdout",
     "output_type": "stream",
     "text": [
      "[21:54:05] WARNING: src/objective/regression_obj.cu:152: reg:linear is now deprecated in favor of reg:squarederror.\n",
      "Mean squared error:796.1539974129873 \n",
      "Time consumed for training: 1.993 seconds\n",
      "Time consumed for prediction: 0.02088 seconds\n"
     ]
    }
   ],
   "source": [
    "xgb = XGBRegressor()\n",
    "\n",
    "training_start = time.perf_counter()\n",
    "xgb.fit(X_train, y_train)\n",
    "training_end = time.perf_counter()\n",
    "\n",
    "prediction_start = time.perf_counter()\n",
    "preds = xgb.predict(X_test)\n",
    "prediction_end = time.perf_counter()\n",
    "mse = mean_squared_error (y_test,preds)\n",
    "\n",
    "train_time = training_end-training_start\n",
    "prediction_time = prediction_end-prediction_start\n",
    "print(\"Mean squared error:{} \".format(mse**0.5))\n",
    "print(\"Time consumed for training: %4.3f seconds\" % (train_time))\n",
    "print(\"Time consumed for prediction: %6.5f seconds\" % (prediction_time))"
   ]
  },
  {
   "cell_type": "markdown",
   "metadata": {},
   "source": [
    "#### Conclusion: Performed better than any of the previous models"
   ]
  },
  {
   "cell_type": "code",
   "execution_count": null,
   "metadata": {},
   "outputs": [],
   "source": []
  },
  {
   "cell_type": "code",
   "execution_count": 86,
   "metadata": {},
   "outputs": [
    {
     "name": "stdout",
     "output_type": "stream",
     "text": [
      "Mean squared error:784.0823191832701 \n",
      "Time consumed for training: 0.656 seconds\n",
      "Time consumed for prediction: 0.03246 seconds\n"
     ]
    }
   ],
   "source": [
    "import  lightgbm as lgbm\n",
    "lgb =lgbm.LGBMRegressor()\n",
    "\n",
    "training_start = time.perf_counter()\n",
    "lgb.fit(X_train, y_train)\n",
    "training_end = time.perf_counter()\n",
    "\n",
    "prediction_start = time.perf_counter()\n",
    "preds = lgb.predict(X_test)\n",
    "prediction_end = time.perf_counter()\n",
    "mse = mean_squared_error (y_test,preds)\n",
    "\n",
    "train_time = training_end-training_start\n",
    "prediction_time = prediction_end-prediction_start\n",
    "print(\"Mean squared error:{} \".format(mse**0.5))\n",
    "print(\"Time consumed for training: %4.3f seconds\" % (train_time))\n",
    "print(\"Time consumed for prediction: %6.5f seconds\" % (prediction_time))"
   ]
  },
  {
   "cell_type": "markdown",
   "metadata": {},
   "source": [
    "### Conclusion: Perfomed best"
   ]
  },
  {
   "cell_type": "code",
   "execution_count": null,
   "metadata": {},
   "outputs": [],
   "source": []
  },
  {
   "cell_type": "markdown",
   "metadata": {},
   "source": [
    "## Optimization of hyperparameters"
   ]
  },
  {
   "cell_type": "code",
   "execution_count": 92,
   "metadata": {},
   "outputs": [
    {
     "name": "stdout",
     "output_type": "stream",
     "text": [
      "  Algorithm  CrossValMeans  CrossValErrors\n",
      "5      LGBM     751.266685       26.729380\n",
      "4      XGBR     764.791298       28.640995\n",
      "1       GBR     765.368424       28.768288\n",
      "3       RFR     812.604856       23.040332\n",
      "2       EXR     920.856168       21.337081\n",
      "0       SVR     998.662220       29.656257\n"
     ]
    }
   ],
   "source": [
    "from sklearn.model_selection import KFold\n",
    "from sklearn.ensemble import ExtraTreesRegressor, RandomForestRegressor, GradientBoostingRegressor\n",
    "import xgboost as xgb\n",
    "import  lightgbm as lgb\n",
    "from sklearn.model_selection import cross_val_score, learning_curve\n",
    "\n",
    "rs = 3\n",
    "kfold = KFold(n_splits=10, random_state=rs, shuffle=True)\n",
    "\n",
    "regressors = []\n",
    "regressors.append(SVR())\n",
    "regressors.append(GradientBoostingRegressor(random_state=rs))\n",
    "regressors.append(ExtraTreesRegressor(n_estimators=rs))\n",
    "regressors.append(RandomForestRegressor(random_state=rs))\n",
    "regressors.append(xgb.XGBRegressor(random_state=rs, objective=\"reg:squarederror\"))\n",
    "regressors.append(lgb.LGBMRegressor(random_state=rs))\n",
    "\n",
    "cv_results = []\n",
    "for regressor in regressors:     #scores to be minimised are negated (neg)\n",
    "    cv_results.append(np.sqrt(abs(cross_val_score(regressor, X_train, y=y_train, scoring='neg_mean_squared_error', cv=kfold))))\n",
    "\n",
    "cv_means = []\n",
    "cv_stds = []\n",
    "for cv_result in cv_results:\n",
    "    cv_means.append(cv_result.mean())\n",
    "    cv_stds.append(cv_result.std())\n",
    "    \n",
    "cv_res = pd.DataFrame({ \n",
    "    \"Algorithm\": [\"SVR\", \"GBR\", \"EXR\", \"RFR\", \"XGBR\", \"LGBM\"],\n",
    "    \"CrossValMeans\": cv_means, \"CrossValErrors\": cv_stds\n",
    "                       })\n",
    "cv_res = cv_res.sort_values(\"CrossValMeans\", ascending=True)\n",
    "print(cv_res)"
   ]
  },
  {
   "cell_type": "code",
   "execution_count": null,
   "metadata": {},
   "outputs": [],
   "source": []
  }
 ],
 "metadata": {
  "kernelspec": {
   "display_name": "Python 3",
   "language": "python",
   "name": "python3"
  },
  "language_info": {
   "codemirror_mode": {
    "name": "ipython",
    "version": 3
   },
   "file_extension": ".py",
   "mimetype": "text/x-python",
   "name": "python",
   "nbconvert_exporter": "python",
   "pygments_lexer": "ipython3",
   "version": "3.7.3"
  }
 },
 "nbformat": 4,
 "nbformat_minor": 2
}
